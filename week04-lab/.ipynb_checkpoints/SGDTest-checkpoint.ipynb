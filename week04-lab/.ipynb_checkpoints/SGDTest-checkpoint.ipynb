{
 "cells": [
  {
   "cell_type": "markdown",
   "metadata": {},
   "source": [
    "# Stochastic Gradient Descent example"
   ]
  },
  {
   "cell_type": "code",
   "execution_count": 1,
   "metadata": {},
   "outputs": [
    {
     "data": {
      "text/plain": [
       "[<matplotlib.lines.Line2D at 0x228d9839cf0>]"
      ]
     },
     "execution_count": 1,
     "metadata": {},
     "output_type": "execute_result"
    },
    {
     "data": {
      "image/png": "[encoded data removed]",
      "text/plain": [
       "<Figure size 640x480 with 1 Axes>"
      ]
     },
     "metadata": {},
     "output_type": "display_data"
    }
   ],
   "source": [
    "import numpy as np\n",
    "import matplotlib.pyplot as pl\n",
    "%matplotlib inline\n",
    "#\n",
    "X1 = np.array([0.27, 0.09, 0.00, 0.23, 0., 1.00, 0.32]);\n",
    "#\n",
    "#\n",
    "x = np.linspace(-10,10,100);\n",
    "# function to compute the sigmoid\n",
    "sigmoid = lambda x: 1/(1 + np.exp(-x));\n",
    "\n",
    "pl.plot(x,sigmoid(x),'r') # plot the line\n",
    "\n"
   ]
  },
  {
   "cell_type": "code",
   "execution_count": 2,
   "metadata": {},
   "outputs": [],
   "source": [
    "################################################################################\n",
    "# This function implements the SGD algorithm for a simple layer net \n",
    "# with 3 inputs and one output\n",
    "#  W - the weight matrix\n",
    "#  X - the input data\n",
    "#  D - correct output of the training data.\n",
    "#  (0,0,1, 0)\n",
    "#  (0,1,1, 0)\n",
    "#  (1,0,1, 1)\n",
    "#  (1,1,1, 1)\n",
    "################################################################################\n",
    "#\n",
    "def SGD(W, X, D):\n",
    "    alpha = 0.9 # learning rate\n",
    "    N=4\n",
    "    for k in range(0,N):\n",
    "        x = X[k, :].T; #inputs from training data\n",
    "        #print(\"x=\",x)\n",
    "        d = D[k]; # correct output from training data\n",
    "        \n",
    "        # calculate the weighted sum\n",
    "        v = np.dot(W,x);\n",
    "        #pass the weighted sum to the activation function, this gives the output\n",
    "        y = sigmoid(v);\n",
    "        #calculate the error, difference between correct output and computed output\n",
    "        e = d - y;\n",
    "        #calculate delta, derivative of the activation function times the error\n",
    "        # note that 𝜎′(𝑥)=𝜎(𝑥)∙(1− 𝜎(𝑥)) = y * (1-y)\n",
    "        delta = y*(1-y)*e; # element wise multiplication\n",
    "        # Adjust the weights according to the learning rule\n",
    "        #apply generalized delta rule\n",
    "        x.shape=(1,3) # row vector of the current input        \n",
    "        dW = alpha*np.dot(delta,x);\n",
    "        W = W + dW;\n",
    "        #\n",
    "    return W;\n",
    "    \n",
    "    "
   ]
  },
  {
   "cell_type": "code",
   "execution_count": 3,
   "metadata": {},
   "outputs": [
    {
     "name": "stdout",
     "output_type": "stream",
     "text": [
      "y= [0.01020283]\n",
      "y= [0.00829279]\n",
      "y= [0.99324382]\n",
      "y= [0.99168473]\n"
     ]
    }
   ],
   "source": [
    "#\n",
    "#################################\n",
    "# Testing backprop with XOR data\n",
    "#################################\n",
    "# inputs array\n",
    "X = np.array(\n",
    "    [ [0, 0, 1],\n",
    "      [0, 1, 1],\n",
    "      [1, 0, 1],\n",
    "      [1, 1, 1] \n",
    "    ]);\n",
    "#print(X)\n",
    "# correct output column vector\n",
    "D = np.array(\n",
    "            [ \n",
    "                [0], \n",
    "                [0], \n",
    "                [1], \n",
    "                [1]\n",
    "            ]);\n",
    "#print(D)\n",
    "# initialize the weights between input layer and output\n",
    "W = 2*np.random.rand(1, 3) - 1;\n",
    "\n",
    "#\n",
    "# run the SGD algorithm to compute the weights\n",
    "for epoch in range(1,10000): # train\n",
    "    W = SGD(W, X, D);\n",
    "#\n",
    "#\n",
    "# calculate the output of the network with computed weights \n",
    "N=4\n",
    "for k in range(0,N):\n",
    "    x = X[k, :].T; #inputs from training data\n",
    "    #\n",
    "    # calculate the weighted sum of input nodes\n",
    "    v = np.dot(W,x);\n",
    "    #pass the weighted sum to the activation function, this gives the outputs\n",
    "    y = sigmoid(v);  \n",
    "    print(\"y=\",y)\n",
    "    \n",
    "    "
   ]
  }
 ],
 "metadata": {
  "kernelspec": {
   "display_name": "Python 3 (ipykernel)",
   "language": "python",
   "name": "python3"
  },
  "language_info": {
   "codemirror_mode": {
    "name": "ipython",
    "version": 3
   },
   "file_extension": ".py",
   "mimetype": "text/x-python",
   "name": "python",
   "nbconvert_exporter": "python",
   "pygments_lexer": "ipython3",
   "version": "3.10.0"
  }
 },
 "nbformat": 4,
 "nbformat_minor": 4
}
