{
 "cells": [
  {
   "cell_type": "code",
   "execution_count": 79,
   "id": "3c7c49df-f6d8-4322-b3ca-f01c4fd4f122",
   "metadata": {
    "ExecuteTime": {
     "end_time": "2024-02-29T04:36:50.854267200Z",
     "start_time": "2024-02-29T04:36:50.111695900Z"
    }
   },
   "outputs": [
    {
     "name": "stdout",
     "output_type": "stream",
     "text": [
      "{'uci_id': 878, 'name': 'Cirrhosis Patient Survival Prediction', 'repository_url': 'https://archive.ics.uci.edu/dataset/878/cirrhosis+patient+survival+prediction+dataset-1', 'data_url': 'https://archive.ics.uci.edu/static/public/878/data.csv', 'abstract': 'Utilize 17 clinical features for predicting survival state of patients with liver cirrhosis. The survival states include 0 = D (death), 1 = C (censored), 2 = CL (censored due to liver transplantation).', 'area': 'Health and Medicine', 'tasks': ['Classification'], 'characteristics': ['Tabular'], 'num_instances': 418, 'num_features': 17, 'feature_types': ['Real', 'Categorical'], 'demographics': ['Age', 'Sex'], 'target_col': ['Status'], 'index_col': ['ID'], 'has_missing_values': 'yes', 'missing_values_symbol': 'NaN', 'year_of_dataset_creation': 1989, 'last_updated': 'Fri Nov 03 2023', 'dataset_doi': '10.24432/C5R02G', 'creators': ['E. Dickson', 'P. Grambsch', 'T. Fleming', 'L. Fisher', 'A. Langworthy'], 'intro_paper': {'title': 'Prognosis in primary biliary cirrhosis: Model for decision making', 'authors': 'E. Dickson, P. Grambsch, T. Fleming, L. Fisher, A. Langworthy', 'published_in': 'Hepatology', 'year': 1989, 'url': 'https://www.semanticscholar.org/paper/db1487216b8a4b26f5e5078ea9109ac9d8355b65', 'doi': None}, 'additional_info': {'summary': \"During 1974 to 1984, 424 PBC patients referred to the Mayo Clinic qualified for the randomized placebo-controlled trial testing the drug D-penicillamine. Of these, the initial 312 patients took part in the trial and have mostly comprehensive data. The remaining 112 patients didn't join the clinical trial but agreed to record basic metrics and undergo survival tracking. Six of these patients were soon untraceable after their diagnosis, leaving data for 106 of these individuals in addition to the 312 who were part of the randomized trial.\", 'purpose': 'Cirrhosis results from prolonged liver damage, leading to extensive scarring, often due to conditions like hepatitis or chronic alcohol consumption. The data provided is sourced from a Mayo Clinic study on primary biliary cirrhosis (PBC) of the liver carried out from 1974 to 1984.', 'funded_by': 'Mayo Clinic', 'instances_represent': 'People', 'recommended_data_splits': None, 'sensitive_data': 'Gender, Age', 'preprocessing_description': '1. Drop all the rows where miss value (NA) were present in the Drug column\\n2. Impute missing values with mean results\\n3. One-hot encoding for all category attributes', 'variable_info': '1. ID: unique identifier\\n2. N_Days: number of days between registration and the earlier of death, transplantation, or study analysis time in July 1986\\n3. Status: status of the patient C (censored), CL (censored due to liver tx), or D (death)\\n4. Drug: type of drug D-penicillamine or placebo\\n5. Age: age in [days]\\n6. Sex: M (male) or F (female)\\n7. Ascites: presence of ascites N (No) or Y (Yes)\\n8. Hepatomegaly: presence of hepatomegaly N (No) or Y (Yes)\\n9. Spiders: presence of spiders N (No) or Y (Yes)\\n10. Edema: presence of edema N (no edema and no diuretic therapy for edema), S (edema present without diuretics, or edema resolved by diuretics), or Y (edema despite diuretic therapy)\\n11. Bilirubin: serum bilirubin in [mg/dl]\\n12. Cholesterol: serum cholesterol in [mg/dl]\\n13. Albumin: albumin in [gm/dl]\\n14. Copper: urine copper in [ug/day]\\n15. Alk_Phos: alkaline phosphatase in [U/liter]\\n16. SGOT: SGOT in [U/ml]\\n17. Triglycerides: triglicerides in [mg/dl]\\n18. Platelets: platelets per cubic [ml/1000]\\n19. Prothrombin: prothrombin time in seconds [s]\\n20. Stage: histologic stage of disease (1, 2, 3, or 4)\\n', 'citation': 'Fleming, Thomas R., and David P. Harrington. Counting processes and survival analysis. Vol. 625. John Wiley & Sons, 2013.'}}\n",
      "             name     role         type demographic  \\\n",
      "0              ID       ID      Integer        None   \n",
      "1          N_Days    Other      Integer        None   \n",
      "2          Status   Target  Categorical        None   \n",
      "3            Drug  Feature  Categorical        None   \n",
      "4             Age  Feature      Integer         Age   \n",
      "5             Sex  Feature  Categorical         Sex   \n",
      "6         Ascites  Feature  Categorical        None   \n",
      "7    Hepatomegaly  Feature  Categorical        None   \n",
      "8         Spiders  Feature  Categorical        None   \n",
      "9           Edema  Feature  Categorical        None   \n",
      "10      Bilirubin  Feature   Continuous        None   \n",
      "11    Cholesterol  Feature      Integer        None   \n",
      "12        Albumin  Feature   Continuous        None   \n",
      "13         Copper  Feature      Integer        None   \n",
      "14       Alk_Phos  Feature   Continuous        None   \n",
      "15           SGOT  Feature   Continuous        None   \n",
      "16  Tryglicerides  Feature      Integer        None   \n",
      "17      Platelets  Feature      Integer        None   \n",
      "18    Prothrombin  Feature   Continuous        None   \n",
      "19          Stage  Feature  Categorical        None   \n",
      "\n",
      "                                          description    units missing_values  \n",
      "0                                   unique identifier     None             no  \n",
      "1   number of days between registration and the ea...     None             no  \n",
      "2   status of the patient C (censored), CL (censor...     None             no  \n",
      "3             type of drug D-penicillamine or placebo     None            yes  \n",
      "4                                                 age     days             no  \n",
      "5                              M (male) or F (female)     None             no  \n",
      "6               presence of ascites N (No) or Y (Yes)     None            yes  \n",
      "7          presence of hepatomegaly N (No) or Y (Yes)     None            yes  \n",
      "8               presence of spiders N (No) or Y (Yes)     None            yes  \n",
      "9   presence of edema N (no edema and no diuretic ...     None             no  \n",
      "10                                    serum bilirubin    mg/dl             no  \n",
      "11                                  serum cholesterol    mg/dl            yes  \n",
      "12                                            albumin    gm/dl             no  \n",
      "13                                       urine copper   ug/day            yes  \n",
      "14                               alkaline phosphatase  U/liter            yes  \n",
      "15                                               SGOT     U/ml            yes  \n",
      "16                                      tryglicerides     None            yes  \n",
      "17                                platelets per cubic  ml/1000            yes  \n",
      "18                                   prothrombin time        s            yes  \n",
      "19        histologic stage of disease (1, 2, 3, or 4)     None            yes  \n"
     ]
    }
   ],
   "source": [
    "from ucimlrepo import fetch_ucirepo \n",
    "  \n",
    "# fetch dataset \n",
    "cirrhosis_patient_survival_prediction = fetch_ucirepo(id=878) \n",
    "  \n",
    "# data (as pandas dataframes) \n",
    "X = cirrhosis_patient_survival_prediction.data.features \n",
    "y = cirrhosis_patient_survival_prediction.data.targets \n",
    "  \n",
    "# metadata \n",
    "print(cirrhosis_patient_survival_prediction.metadata) \n",
    "  \n",
    "# variable information \n",
    "print(cirrhosis_patient_survival_prediction.variables) \n"
   ]
  },
  {
   "cell_type": "code",
   "execution_count": 80,
   "outputs": [
    {
     "data": {
      "text/plain": "             name     role         type demographic  \\\n0              ID       ID      Integer        None   \n1          N_Days    Other      Integer        None   \n2          Status   Target  Categorical        None   \n3            Drug  Feature  Categorical        None   \n4             Age  Feature      Integer         Age   \n5             Sex  Feature  Categorical         Sex   \n6         Ascites  Feature  Categorical        None   \n7    Hepatomegaly  Feature  Categorical        None   \n8         Spiders  Feature  Categorical        None   \n9           Edema  Feature  Categorical        None   \n10      Bilirubin  Feature   Continuous        None   \n11    Cholesterol  Feature      Integer        None   \n12        Albumin  Feature   Continuous        None   \n13         Copper  Feature      Integer        None   \n14       Alk_Phos  Feature   Continuous        None   \n15           SGOT  Feature   Continuous        None   \n16  Tryglicerides  Feature      Integer        None   \n17      Platelets  Feature      Integer        None   \n18    Prothrombin  Feature   Continuous        None   \n19          Stage  Feature  Categorical        None   \n\n                                          description    units missing_values  \n0                                   unique identifier     None             no  \n1   number of days between registration and the ea...     None             no  \n2   status of the patient C (censored), CL (censor...     None             no  \n3             type of drug D-penicillamine or placebo     None            yes  \n4                                                 age     days             no  \n5                              M (male) or F (female)     None             no  \n6               presence of ascites N (No) or Y (Yes)     None            yes  \n7          presence of hepatomegaly N (No) or Y (Yes)     None            yes  \n8               presence of spiders N (No) or Y (Yes)     None            yes  \n9   presence of edema N (no edema and no diuretic ...     None             no  \n10                                    serum bilirubin    mg/dl             no  \n11                                  serum cholesterol    mg/dl            yes  \n12                                            albumin    gm/dl             no  \n13                                       urine copper   ug/day            yes  \n14                               alkaline phosphatase  U/liter            yes  \n15                                               SGOT     U/ml            yes  \n16                                      tryglicerides     None            yes  \n17                                platelets per cubic  ml/1000            yes  \n18                                   prothrombin time        s            yes  \n19        histologic stage of disease (1, 2, 3, or 4)     None            yes  ",
      "text/html": "<div>\n<style scoped>\n    .dataframe tbody tr th:only-of-type {\n        vertical-align: middle;\n    }\n\n    .dataframe tbody tr th {\n        vertical-align: top;\n    }\n\n    .dataframe thead th {\n        text-align: right;\n    }\n</style>\n<table border=\"1\" class=\"dataframe\">\n  <thead>\n    <tr style=\"text-align: right;\">\n      <th></th>\n      <th>name</th>\n      <th>role</th>\n      <th>type</th>\n      <th>demographic</th>\n      <th>description</th>\n      <th>units</th>\n      <th>missing_values</th>\n    </tr>\n  </thead>\n  <tbody>\n    <tr>\n      <th>0</th>\n      <td>ID</td>\n      <td>ID</td>\n      <td>Integer</td>\n      <td>None</td>\n      <td>unique identifier</td>\n      <td>None</td>\n      <td>no</td>\n    </tr>\n    <tr>\n      <th>1</th>\n      <td>N_Days</td>\n      <td>Other</td>\n      <td>Integer</td>\n      <td>None</td>\n      <td>number of days between registration and the ea...</td>\n      <td>None</td>\n      <td>no</td>\n    </tr>\n    <tr>\n      <th>2</th>\n      <td>Status</td>\n      <td>Target</td>\n      <td>Categorical</td>\n      <td>None</td>\n      <td>status of the patient C (censored), CL (censor...</td>\n      <td>None</td>\n      <td>no</td>\n    </tr>\n    <tr>\n      <th>3</th>\n      <td>Drug</td>\n      <td>Feature</td>\n      <td>Categorical</td>\n      <td>None</td>\n      <td>type of drug D-penicillamine or placebo</td>\n      <td>None</td>\n      <td>yes</td>\n    </tr>\n    <tr>\n      <th>4</th>\n      <td>Age</td>\n      <td>Feature</td>\n      <td>Integer</td>\n      <td>Age</td>\n      <td>age</td>\n      <td>days</td>\n      <td>no</td>\n    </tr>\n    <tr>\n      <th>5</th>\n      <td>Sex</td>\n      <td>Feature</td>\n      <td>Categorical</td>\n      <td>Sex</td>\n      <td>M (male) or F (female)</td>\n      <td>None</td>\n      <td>no</td>\n    </tr>\n    <tr>\n      <th>6</th>\n      <td>Ascites</td>\n      <td>Feature</td>\n      <td>Categorical</td>\n      <td>None</td>\n      <td>presence of ascites N (No) or Y (Yes)</td>\n      <td>None</td>\n      <td>yes</td>\n    </tr>\n    <tr>\n      <th>7</th>\n      <td>Hepatomegaly</td>\n      <td>Feature</td>\n      <td>Categorical</td>\n      <td>None</td>\n      <td>presence of hepatomegaly N (No) or Y (Yes)</td>\n      <td>None</td>\n      <td>yes</td>\n    </tr>\n    <tr>\n      <th>8</th>\n      <td>Spiders</td>\n      <td>Feature</td>\n      <td>Categorical</td>\n      <td>None</td>\n      <td>presence of spiders N (No) or Y (Yes)</td>\n      <td>None</td>\n      <td>yes</td>\n    </tr>\n    <tr>\n      <th>9</th>\n      <td>Edema</td>\n      <td>Feature</td>\n      <td>Categorical</td>\n      <td>None</td>\n      <td>presence of edema N (no edema and no diuretic ...</td>\n      <td>None</td>\n      <td>no</td>\n    </tr>\n    <tr>\n      <th>10</th>\n      <td>Bilirubin</td>\n      <td>Feature</td>\n      <td>Continuous</td>\n      <td>None</td>\n      <td>serum bilirubin</td>\n      <td>mg/dl</td>\n      <td>no</td>\n    </tr>\n    <tr>\n      <th>11</th>\n      <td>Cholesterol</td>\n      <td>Feature</td>\n      <td>Integer</td>\n      <td>None</td>\n      <td>serum cholesterol</td>\n      <td>mg/dl</td>\n      <td>yes</td>\n    </tr>\n    <tr>\n      <th>12</th>\n      <td>Albumin</td>\n      <td>Feature</td>\n      <td>Continuous</td>\n      <td>None</td>\n      <td>albumin</td>\n      <td>gm/dl</td>\n      <td>no</td>\n    </tr>\n    <tr>\n      <th>13</th>\n      <td>Copper</td>\n      <td>Feature</td>\n      <td>Integer</td>\n      <td>None</td>\n      <td>urine copper</td>\n      <td>ug/day</td>\n      <td>yes</td>\n    </tr>\n    <tr>\n      <th>14</th>\n      <td>Alk_Phos</td>\n      <td>Feature</td>\n      <td>Continuous</td>\n      <td>None</td>\n      <td>alkaline phosphatase</td>\n      <td>U/liter</td>\n      <td>yes</td>\n    </tr>\n    <tr>\n      <th>15</th>\n      <td>SGOT</td>\n      <td>Feature</td>\n      <td>Continuous</td>\n      <td>None</td>\n      <td>SGOT</td>\n      <td>U/ml</td>\n      <td>yes</td>\n    </tr>\n    <tr>\n      <th>16</th>\n      <td>Tryglicerides</td>\n      <td>Feature</td>\n      <td>Integer</td>\n      <td>None</td>\n      <td>tryglicerides</td>\n      <td>None</td>\n      <td>yes</td>\n    </tr>\n    <tr>\n      <th>17</th>\n      <td>Platelets</td>\n      <td>Feature</td>\n      <td>Integer</td>\n      <td>None</td>\n      <td>platelets per cubic</td>\n      <td>ml/1000</td>\n      <td>yes</td>\n    </tr>\n    <tr>\n      <th>18</th>\n      <td>Prothrombin</td>\n      <td>Feature</td>\n      <td>Continuous</td>\n      <td>None</td>\n      <td>prothrombin time</td>\n      <td>s</td>\n      <td>yes</td>\n    </tr>\n    <tr>\n      <th>19</th>\n      <td>Stage</td>\n      <td>Feature</td>\n      <td>Categorical</td>\n      <td>None</td>\n      <td>histologic stage of disease (1, 2, 3, or 4)</td>\n      <td>None</td>\n      <td>yes</td>\n    </tr>\n  </tbody>\n</table>\n</div>"
     },
     "execution_count": 80,
     "metadata": {},
     "output_type": "execute_result"
    }
   ],
   "source": [
    "cirrhosis_patient_survival_prediction.variables"
   ],
   "metadata": {
    "collapsed": false,
    "ExecuteTime": {
     "end_time": "2024-02-29T04:36:50.870002600Z",
     "start_time": "2024-02-29T04:36:50.850266900Z"
    }
   },
   "id": "509a70d1f18c64d5"
  },
  {
   "cell_type": "code",
   "execution_count": 81,
   "id": "49dd59cd-c567-46b0-a125-b79dc3dee166",
   "metadata": {
    "ExecuteTime": {
     "end_time": "2024-02-29T04:36:50.908004400Z",
     "start_time": "2024-02-29T04:36:50.868Z"
    }
   },
   "outputs": [],
   "source": [
    "most_common_hepatomegaly = X['Hepatomegaly'].value_counts().idxmax()\n",
    "(X['Hepatomegaly'] == 'NA').sum()\n",
    "X = X[X['Hepatomegaly'] != \"NaNN\"]"
   ]
  },
  {
   "cell_type": "code",
   "execution_count": 82,
   "id": "60592b41-0876-4c49-bd22-9d42b203dbfc",
   "metadata": {
    "ExecuteTime": {
     "end_time": "2024-02-29T04:36:50.910002Z",
     "start_time": "2024-02-29T04:36:50.887002100Z"
    }
   },
   "outputs": [
    {
     "data": {
      "text/plain": "Drug             105\nAge                0\nSex                0\nAscites          105\nHepatomegaly     105\nSpiders          105\nEdema              0\nBilirubin          0\nCholesterol      105\nAlbumin            0\nCopper           105\nAlk_Phos         105\nSGOT             105\nTryglicerides    105\nPlatelets          7\nProthrombin        2\nStage              5\ndtype: int64"
     },
     "execution_count": 82,
     "metadata": {},
     "output_type": "execute_result"
    }
   ],
   "source": [
    "X.isnull().sum()"
   ]
  },
  {
   "cell_type": "code",
   "execution_count": 83,
   "outputs": [
    {
     "data": {
      "text/plain": "369.51056338028167"
     },
     "execution_count": 83,
     "metadata": {},
     "output_type": "execute_result"
    }
   ],
   "source": [
    "X = X[X['Cholesterol'] != 'NaNN']\n",
    "X['Cholesterol'].astype(float).mean()"
   ],
   "metadata": {
    "collapsed": false,
    "ExecuteTime": {
     "end_time": "2024-02-29T04:36:51.012003600Z",
     "start_time": "2024-02-29T04:36:50.901004Z"
    }
   },
   "id": "e0b48f835decb145"
  },
  {
   "cell_type": "code",
   "execution_count": 84,
   "outputs": [
    {
     "data": {
      "text/plain": "0"
     },
     "execution_count": 84,
     "metadata": {},
     "output_type": "execute_result"
    }
   ],
   "source": [
    "X['Cholesterol'] = X['Cholesterol'].fillna(X['Cholesterol'].astype(float).mean())\n",
    "X['Cholesterol'] = X['Cholesterol'].astype(float)\n",
    "X['Cholesterol'].isnull().sum()"
   ],
   "metadata": {
    "collapsed": false,
    "ExecuteTime": {
     "end_time": "2024-02-29T04:36:51.052003900Z",
     "start_time": "2024-02-29T04:36:50.914002600Z"
    }
   },
   "id": "d800c84beee562d8"
  },
  {
   "cell_type": "code",
   "execution_count": 85,
   "outputs": [
    {
     "data": {
      "text/plain": "Hepatomegaly\nY    147\nN    137\nName: count, dtype: int64"
     },
     "execution_count": 85,
     "metadata": {},
     "output_type": "execute_result"
    }
   ],
   "source": [
    "# get all distinct values of the column Hepatomegaly\n",
    "X['Hepatomegaly'].value_counts()"
   ],
   "metadata": {
    "collapsed": false,
    "ExecuteTime": {
     "end_time": "2024-02-29T04:36:51.125007100Z",
     "start_time": "2024-02-29T04:36:50.932000900Z"
    }
   },
   "id": "6fd7b7e75998d346"
  },
  {
   "cell_type": "code",
   "execution_count": 86,
   "outputs": [
    {
     "data": {
      "text/plain": "Spiders\nN    202\nY     82\nName: count, dtype: int64"
     },
     "execution_count": 86,
     "metadata": {},
     "output_type": "execute_result"
    }
   ],
   "source": [
    "# get all distinct values of the column Spiders\n",
    "X['Spiders'].value_counts()"
   ],
   "metadata": {
    "collapsed": false,
    "ExecuteTime": {
     "end_time": "2024-02-29T04:36:51.171005400Z",
     "start_time": "2024-02-29T04:36:50.946001500Z"
    }
   },
   "id": "7c8c63bde0f346f4"
  },
  {
   "cell_type": "code",
   "execution_count": 87,
   "outputs": [
    {
     "data": {
      "text/plain": "Ascites\nN    263\nY     21\nName: count, dtype: int64"
     },
     "execution_count": 87,
     "metadata": {},
     "output_type": "execute_result"
    }
   ],
   "source": [
    "# get all distinct values of the column Ascites\n",
    "X['Ascites'].value_counts()"
   ],
   "metadata": {
    "collapsed": false,
    "ExecuteTime": {
     "end_time": "2024-02-29T04:36:51.173007400Z",
     "start_time": "2024-02-29T04:36:50.964002600Z"
    }
   },
   "id": "4b9ac21103d9b5ae"
  },
  {
   "cell_type": "code",
   "execution_count": 88,
   "outputs": [
    {
     "data": {
      "text/plain": "Sex\nF    346\nM     43\nName: count, dtype: int64"
     },
     "execution_count": 88,
     "metadata": {},
     "output_type": "execute_result"
    }
   ],
   "source": [
    "# get all distinct values of Sex\n",
    "X['Sex'].value_counts()"
   ],
   "metadata": {
    "collapsed": false,
    "ExecuteTime": {
     "end_time": "2024-02-29T04:36:51.173007400Z",
     "start_time": "2024-02-29T04:36:50.977004Z"
    }
   },
   "id": "ce2734a1b0a2d627"
  },
  {
   "cell_type": "code",
   "execution_count": 89,
   "outputs": [
    {
     "data": {
      "text/plain": "Drug\nPlacebo            144\nD-penicillamine    140\nName: count, dtype: int64"
     },
     "execution_count": 89,
     "metadata": {},
     "output_type": "execute_result"
    }
   ],
   "source": [
    "# get all distinct values of Drug\n",
    "X['Drug'].value_counts()"
   ],
   "metadata": {
    "collapsed": false,
    "ExecuteTime": {
     "end_time": "2024-02-29T04:36:51.173007400Z",
     "start_time": "2024-02-29T04:36:50.995001900Z"
    }
   },
   "id": "955138d949e2f283"
  },
  {
   "cell_type": "code",
   "execution_count": 90,
   "outputs": [],
   "source": [
    "X = X.drop('Drug', axis=1)"
   ],
   "metadata": {
    "collapsed": false,
    "ExecuteTime": {
     "end_time": "2024-02-29T04:36:51.174005300Z",
     "start_time": "2024-02-29T04:36:51.010003800Z"
    }
   },
   "id": "766f2d7bc2141fd3"
  },
  {
   "cell_type": "code",
   "execution_count": 91,
   "outputs": [
    {
     "data": {
      "text/plain": "'Y'"
     },
     "execution_count": 91,
     "metadata": {},
     "output_type": "execute_result"
    }
   ],
   "source": [
    "most_common_hepatomegaly = X['Hepatomegaly'].value_counts().idxmax()\n",
    "most_common_hepatomegaly"
   ],
   "metadata": {
    "collapsed": false,
    "ExecuteTime": {
     "end_time": "2024-02-29T04:36:51.184004800Z",
     "start_time": "2024-02-29T04:36:51.025002300Z"
    }
   },
   "id": "51edad59a67c4669"
  },
  {
   "cell_type": "code",
   "execution_count": 92,
   "outputs": [],
   "source": [
    "X['Hepatomegaly'] = X['Hepatomegaly'].fillna(most_common_hepatomegaly)"
   ],
   "metadata": {
    "collapsed": false,
    "ExecuteTime": {
     "end_time": "2024-02-29T04:36:51.187007800Z",
     "start_time": "2024-02-29T04:36:51.043003200Z"
    }
   },
   "id": "ef8665d4aca06a51"
  },
  {
   "cell_type": "code",
   "execution_count": 93,
   "outputs": [
    {
     "data": {
      "text/plain": "0"
     },
     "execution_count": 93,
     "metadata": {},
     "output_type": "execute_result"
    }
   ],
   "source": [
    "X['Hepatomegaly'].isnull().sum()"
   ],
   "metadata": {
    "collapsed": false,
    "ExecuteTime": {
     "end_time": "2024-02-29T04:36:51.207003500Z",
     "start_time": "2024-02-29T04:36:51.055003Z"
    }
   },
   "id": "a114c17055363ff1"
  },
  {
   "cell_type": "code",
   "execution_count": 94,
   "outputs": [
    {
     "data": {
      "text/plain": "0"
     },
     "execution_count": 94,
     "metadata": {},
     "output_type": "execute_result"
    }
   ],
   "source": [
    "X['Spiders'] = X['Spiders'].fillna(X['Spiders'].value_counts().idxmax())\n",
    "X['Spiders'].isnull().sum()"
   ],
   "metadata": {
    "collapsed": false,
    "ExecuteTime": {
     "end_time": "2024-02-29T04:36:51.231003100Z",
     "start_time": "2024-02-29T04:36:51.071004400Z"
    }
   },
   "id": "58897d652f494ccc"
  },
  {
   "cell_type": "code",
   "execution_count": 95,
   "outputs": [
    {
     "data": {
      "text/plain": "0"
     },
     "execution_count": 95,
     "metadata": {},
     "output_type": "execute_result"
    }
   ],
   "source": [
    "X['Ascites'] = X['Ascites'].fillna(X['Ascites'].value_counts().idxmax())\n",
    "X['Ascites'].isnull().sum()"
   ],
   "metadata": {
    "collapsed": false,
    "ExecuteTime": {
     "end_time": "2024-02-29T04:36:51.231003100Z",
     "start_time": "2024-02-29T04:36:51.087005600Z"
    }
   },
   "id": "29c5cf91cff7a9e4"
  },
  {
   "cell_type": "code",
   "execution_count": 96,
   "outputs": [
    {
     "data": {
      "text/plain": "0"
     },
     "execution_count": 96,
     "metadata": {},
     "output_type": "execute_result"
    }
   ],
   "source": [
    "X['Sex'] = X['Sex'].fillna(X['Sex'].value_counts().idxmax())\n",
    "X['Sex'].isnull().sum()"
   ],
   "metadata": {
    "collapsed": false,
    "ExecuteTime": {
     "end_time": "2024-02-29T04:36:51.231003100Z",
     "start_time": "2024-02-29T04:36:51.102006800Z"
    }
   },
   "id": "157908e536a5f9fb"
  },
  {
   "cell_type": "code",
   "execution_count": 97,
   "outputs": [
    {
     "name": "stderr",
     "output_type": "stream",
     "text": [
      "C:\\Users\\301212298\\AppData\\Local\\Temp\\ipykernel_21692\\2869421565.py:1: FutureWarning: Downcasting behavior in `replace` is deprecated and will be removed in a future version. To retain the old behavior, explicitly call `result.infer_objects(copy=False)`. To opt-in to the future behavior, set `pd.set_option('future.no_silent_downcasting', True)`\n",
      "  X['Hepatomegaly'] = X['Hepatomegaly'].replace({'Y': 1, 'N': 0}).astype(int)\n"
     ]
    },
    {
     "data": {
      "text/plain": "Hepatomegaly\n1    252\n0    137\nName: count, dtype: int64"
     },
     "execution_count": 97,
     "metadata": {},
     "output_type": "execute_result"
    }
   ],
   "source": [
    "X['Hepatomegaly'] = X['Hepatomegaly'].replace({'Y': 1, 'N': 0}).astype(int)\n",
    "X['Hepatomegaly'].value_counts()"
   ],
   "metadata": {
    "collapsed": false,
    "ExecuteTime": {
     "end_time": "2024-02-29T04:36:51.232002700Z",
     "start_time": "2024-02-29T04:36:51.119005800Z"
    }
   },
   "id": "a3b5f36f79f05556"
  },
  {
   "cell_type": "code",
   "execution_count": 98,
   "outputs": [
    {
     "name": "stderr",
     "output_type": "stream",
     "text": [
      "C:\\Users\\301212298\\AppData\\Local\\Temp\\ipykernel_21692\\1928286811.py:1: FutureWarning: Downcasting behavior in `replace` is deprecated and will be removed in a future version. To retain the old behavior, explicitly call `result.infer_objects(copy=False)`. To opt-in to the future behavior, set `pd.set_option('future.no_silent_downcasting', True)`\n",
      "  X['Spiders'] = X['Spiders'].replace({'Y': 1, 'N': 0}).astype(int)\n"
     ]
    },
    {
     "data": {
      "text/plain": "Spiders\n0    307\n1     82\nName: count, dtype: int64"
     },
     "execution_count": 98,
     "metadata": {},
     "output_type": "execute_result"
    }
   ],
   "source": [
    "X['Spiders'] = X['Spiders'].replace({'Y': 1, 'N': 0}).astype(int)\n",
    "X['Spiders'].value_counts()"
   ],
   "metadata": {
    "collapsed": false,
    "ExecuteTime": {
     "end_time": "2024-02-29T04:36:51.233003200Z",
     "start_time": "2024-02-29T04:36:51.135006900Z"
    }
   },
   "id": "2adee1745f9c06c3"
  },
  {
   "cell_type": "code",
   "execution_count": 99,
   "outputs": [
    {
     "name": "stderr",
     "output_type": "stream",
     "text": [
      "C:\\Users\\301212298\\AppData\\Local\\Temp\\ipykernel_21692\\3906080754.py:1: FutureWarning: Downcasting behavior in `replace` is deprecated and will be removed in a future version. To retain the old behavior, explicitly call `result.infer_objects(copy=False)`. To opt-in to the future behavior, set `pd.set_option('future.no_silent_downcasting', True)`\n",
      "  X['Ascites'] = X['Ascites'].replace({'Y': 1, 'N': 0}).astype(int)\n"
     ]
    },
    {
     "data": {
      "text/plain": "Ascites\n0    368\n1     21\nName: count, dtype: int64"
     },
     "execution_count": 99,
     "metadata": {},
     "output_type": "execute_result"
    }
   ],
   "source": [
    "X['Ascites'] = X['Ascites'].replace({'Y': 1, 'N': 0}).astype(int)\n",
    "X['Ascites'].value_counts()"
   ],
   "metadata": {
    "collapsed": false,
    "ExecuteTime": {
     "end_time": "2024-02-29T04:36:51.401008300Z",
     "start_time": "2024-02-29T04:36:51.154005500Z"
    }
   },
   "id": "4c99358a12f6d630"
  },
  {
   "cell_type": "code",
   "execution_count": 100,
   "outputs": [
    {
     "name": "stderr",
     "output_type": "stream",
     "text": [
      "C:\\Users\\301212298\\AppData\\Local\\Temp\\ipykernel_21692\\2368481243.py:1: FutureWarning: Downcasting behavior in `replace` is deprecated and will be removed in a future version. To retain the old behavior, explicitly call `result.infer_objects(copy=False)`. To opt-in to the future behavior, set `pd.set_option('future.no_silent_downcasting', True)`\n",
      "  X['Sex'] = X['Sex'].replace({'M': 0, 'F': 1}).astype(int)\n"
     ]
    },
    {
     "data": {
      "text/plain": "Sex\n1    346\n0     43\nName: count, dtype: int64"
     },
     "execution_count": 100,
     "metadata": {},
     "output_type": "execute_result"
    }
   ],
   "source": [
    "X['Sex'] = X['Sex'].replace({'M': 0, 'F': 1}).astype(int)\n",
    "X['Sex'].value_counts()"
   ],
   "metadata": {
    "collapsed": false,
    "ExecuteTime": {
     "end_time": "2024-02-29T04:36:51.424043400Z",
     "start_time": "2024-02-29T04:36:51.182003900Z"
    }
   },
   "id": "2451558df7809990"
  },
  {
   "cell_type": "code",
   "execution_count": 101,
   "outputs": [
    {
     "name": "stderr",
     "output_type": "stream",
     "text": [
      "C:\\Users\\301212298\\AppData\\Local\\Temp\\ipykernel_21692\\698178785.py:1: FutureWarning: Downcasting behavior in `replace` is deprecated and will be removed in a future version. To retain the old behavior, explicitly call `result.infer_objects(copy=False)`. To opt-in to the future behavior, set `pd.set_option('future.no_silent_downcasting', True)`\n",
      "  X['Edema'] = X['Edema'].replace({'N': 0, 'S': 1, \"Y\": 2}).astype(int)\n"
     ]
    },
    {
     "data": {
      "text/plain": "Edema\n0    331\n1     41\n2     17\nName: count, dtype: int64"
     },
     "execution_count": 101,
     "metadata": {},
     "output_type": "execute_result"
    }
   ],
   "source": [
    "X['Edema'] = X['Edema'].replace({'N': 0, 'S': 1, \"Y\": 2}).astype(int)\n",
    "X['Edema'].value_counts()"
   ],
   "metadata": {
    "collapsed": false,
    "ExecuteTime": {
     "end_time": "2024-02-29T04:36:51.426050200Z",
     "start_time": "2024-02-29T04:36:51.196005700Z"
    }
   },
   "id": "f8e81b23e19342f6"
  },
  {
   "cell_type": "code",
   "execution_count": 102,
   "outputs": [],
   "source": [
    "# fill the missing values of the columns that have missing values\n",
    "X = X[X['Copper'] != \"NaNN\"]\n",
    "X['Copper'] = X['Copper'].fillna(X['Copper'].astype(float).mean())\n",
    "X['Alk_Phos'] = X['Alk_Phos'].fillna(X['Alk_Phos'].astype(float).mean())\n",
    "X['SGOT'] = X['SGOT'].fillna(X['SGOT'].astype(float).mean())\n",
    "X = X[X['Tryglicerides'] != \"NaNN\"]\n",
    "X['Tryglicerides'] = X['Tryglicerides'].fillna(X['Tryglicerides'].astype(float).mean())\n",
    "X = X[X['Platelets'] != \"NaNN\"]\n",
    "X['Platelets'] = X['Platelets'].fillna(X['Platelets'].astype(float).mean())\n",
    "X['Prothrombin'] = X['Prothrombin'].fillna(X['Prothrombin'].astype(float).mean())\n",
    "X['Stage'] = X['Stage'].fillna(X['Stage'].astype(float).mean())"
   ],
   "metadata": {
    "collapsed": false,
    "ExecuteTime": {
     "end_time": "2024-02-29T04:36:51.457031400Z",
     "start_time": "2024-02-29T04:36:51.214008300Z"
    }
   },
   "id": "93aec276ac0a79a2"
  },
  {
   "cell_type": "code",
   "execution_count": 103,
   "outputs": [
    {
     "data": {
      "text/plain": "Status\nC         232\nD         161\nCL         25\nName: count, dtype: int64"
     },
     "execution_count": 103,
     "metadata": {},
     "output_type": "execute_result"
    }
   ],
   "source": [
    "y.value_counts()"
   ],
   "metadata": {
    "collapsed": false,
    "ExecuteTime": {
     "end_time": "2024-02-29T04:36:51.458034500Z",
     "start_time": "2024-02-29T04:36:51.243004800Z"
    }
   },
   "id": "25762fbf203617ae"
  },
  {
   "cell_type": "code",
   "execution_count": 104,
   "outputs": [
    {
     "name": "stderr",
     "output_type": "stream",
     "text": [
      "C:\\Users\\301212298\\AppData\\Local\\Temp\\ipykernel_21692\\376262171.py:1: FutureWarning: Downcasting behavior in `replace` is deprecated and will be removed in a future version. To retain the old behavior, explicitly call `result.infer_objects(copy=False)`. To opt-in to the future behavior, set `pd.set_option('future.no_silent_downcasting', True)`\n",
      "  y['Status'] = y['Status'].replace({'C': 0, 'D': 1, 'CL': 2}).astype(int)\n",
      "C:\\Users\\301212298\\AppData\\Local\\Temp\\ipykernel_21692\\376262171.py:1: SettingWithCopyWarning: \n",
      "A value is trying to be set on a copy of a slice from a DataFrame.\n",
      "Try using .loc[row_indexer,col_indexer] = value instead\n",
      "\n",
      "See the caveats in the documentation: https://pandas.pydata.org/pandas-docs/stable/user_guide/indexing.html#returning-a-view-versus-a-copy\n",
      "  y['Status'] = y['Status'].replace({'C': 0, 'D': 1, 'CL': 2}).astype(int)\n"
     ]
    }
   ],
   "source": [
    "y['Status'] = y['Status'].replace({'C': 0, 'D': 1, 'CL': 2}).astype(int)"
   ],
   "metadata": {
    "collapsed": false,
    "ExecuteTime": {
     "end_time": "2024-02-29T04:36:51.459007500Z",
     "start_time": "2024-02-29T04:36:51.277006100Z"
    }
   },
   "id": "2d51974554eec341"
  },
  {
   "cell_type": "code",
   "execution_count": 105,
   "outputs": [],
   "source": [
    "import numpy as np\n",
    "import matplotlib.pyplot as pl\n",
    "%matplotlib inline\n",
    "\n",
    "#\n",
    "# function to compute the sigmoid\n",
    "sigmoid = lambda x: 1/(1 + np.exp(-x));\n",
    "\n",
    "def backprop(W1, W2, X, D):\n",
    "    alpha = 0.9 # Learning rate\n",
    "    N = X.shape[0]\n",
    "    for k in range(0, N):\n",
    "        x = X[k, :].reshape(-1, 1)\n",
    "        d = D[k].reshape(-1, 1)\n",
    "        ##############################\n",
    "        # forward propogation stop\n",
    "        ##############################\n",
    "        # calculate the weighted sum of hidden node\n",
    "        v1 = np.dot(W1, x)\n",
    "        #pass the weighted sum to the activation function, this gives the output from hidden layer\n",
    "        y1 = sigmoid(v1);\n",
    "        v2 = np.dot(W2, y1)\n",
    "        y = sigmoid(v2)\n",
    "        #calculate the error, difference between correct output and computed output\n",
    "        e = d - y\n",
    "        #calculate delta, derivative of the activation function times the error\n",
    "        delta = y*(1-y)*e\n",
    "        ###########################\n",
    "        # Backward propagation step\n",
    "        ###########################\n",
    "        # propagate the output node delta, δ, backward, and calculate the deltas of the hidden layer\n",
    "        e1 = np.dot(W2.T, delta)\n",
    "        delta1 = y1*(1-y1)*e1\n",
    "    \n",
    "        # Adjust the weights according to the learning rule\n",
    "        # delta1.shape=(6,1) # column vector of deltas for the hidden layer\n",
    "        # x.shape=(1,16) # row vector of the current input\n",
    "        dW1 = alpha*np.dot(delta1,x.T)\n",
    "        W1 = W1 + dW1\n",
    "    \n",
    "        # y1.shape = (1, 3)\n",
    "        dW2 = alpha*np.dot(delta,y1.T)\n",
    "        W2 = W2 + dW2\n",
    "        \n",
    "    return W1, W2\n",
    "\n"
   ],
   "metadata": {
    "collapsed": false,
    "ExecuteTime": {
     "end_time": "2024-02-29T04:36:51.461007Z",
     "start_time": "2024-02-29T04:36:51.295005800Z"
    }
   },
   "id": "ebf5fd22-c366-4bf3-a808-e9e4a1a6b788"
  },
  {
   "cell_type": "code",
   "execution_count": 106,
   "outputs": [],
   "source": [
    "X = X.astype(float)"
   ],
   "metadata": {
    "collapsed": false,
    "ExecuteTime": {
     "end_time": "2024-02-29T04:36:51.461007Z",
     "start_time": "2024-02-29T04:36:51.305006700Z"
    }
   },
   "id": "a9689657964f4bcb"
  },
  {
   "cell_type": "code",
   "execution_count": 107,
   "id": "2eedca6d-e217-417a-8604-cd3944fa98a8",
   "metadata": {
    "ExecuteTime": {
     "end_time": "2024-02-29T04:38:55.061251400Z",
     "start_time": "2024-02-29T04:36:51.321006800Z"
    }
   },
   "outputs": [
    {
     "name": "stderr",
     "output_type": "stream",
     "text": [
      "C:\\Users\\301212298\\AppData\\Local\\Temp\\ipykernel_21692\\4013992956.py:7: RuntimeWarning: overflow encountered in exp\n",
      "  sigmoid = lambda x: 1/(1 + np.exp(-x));\n"
     ]
    },
    {
     "name": "stdout",
     "output_type": "stream",
     "text": [
      "(381, 16)\n",
      "(418, 1)\n"
     ]
    }
   ],
   "source": [
    "#################################\n",
    "# Testing backprop\n",
    "#################################\n",
    "# inputs array\n",
    "npX = np.array(X)\n",
    "npy = np.array(y)\n",
    "print(X.shape)\n",
    "print(y.shape)\n",
    "# initialize the weights between input layer and hidden layer\n",
    "W1 = 2*np.random.rand(6, 16) - 1\n",
    "# initialize the weights between hidden layer and output layer\n",
    "W2 = 2*np.random.rand(3, 6) - 1\n",
    "\n",
    "for epoch in range(1, 10000): #train\n",
    "    W1, W2 = backprop(W1, W2, npX, npy)\n"
   ]
  },
  {
   "cell_type": "code",
   "execution_count": 108,
   "id": "9154a569-2948-4958-abf2-66e690081b68",
   "metadata": {
    "ExecuteTime": {
     "end_time": "2024-02-29T04:38:55.131257100Z",
     "start_time": "2024-02-29T04:38:55.063254400Z"
    }
   },
   "outputs": [
    {
     "ename": "KeyError",
     "evalue": "0",
     "output_type": "error",
     "traceback": [
      "\u001B[1;31m---------------------------------------------------------------------------\u001B[0m",
      "\u001B[1;31mKeyError\u001B[0m                                  Traceback (most recent call last)",
      "File \u001B[1;32m~\\AppData\\Local\\pypoetry\\Cache\\virtualenvs\\comp258-FNsmQjYB-py3.10\\lib\\site-packages\\pandas\\core\\indexes\\base.py:3802\u001B[0m, in \u001B[0;36mIndex.get_loc\u001B[1;34m(self, key)\u001B[0m\n\u001B[0;32m   3801\u001B[0m \u001B[38;5;28;01mtry\u001B[39;00m:\n\u001B[1;32m-> 3802\u001B[0m     \u001B[38;5;28;01mreturn\u001B[39;00m \u001B[38;5;28;43mself\u001B[39;49m\u001B[38;5;241;43m.\u001B[39;49m\u001B[43m_engine\u001B[49m\u001B[38;5;241;43m.\u001B[39;49m\u001B[43mget_loc\u001B[49m\u001B[43m(\u001B[49m\u001B[43mcasted_key\u001B[49m\u001B[43m)\u001B[49m\n\u001B[0;32m   3803\u001B[0m \u001B[38;5;28;01mexcept\u001B[39;00m \u001B[38;5;167;01mKeyError\u001B[39;00m \u001B[38;5;28;01mas\u001B[39;00m err:\n",
      "File \u001B[1;32mindex.pyx:153\u001B[0m, in \u001B[0;36mpandas._libs.index.IndexEngine.get_loc\u001B[1;34m()\u001B[0m\n",
      "File \u001B[1;32mindex.pyx:182\u001B[0m, in \u001B[0;36mpandas._libs.index.IndexEngine.get_loc\u001B[1;34m()\u001B[0m\n",
      "File \u001B[1;32mpandas\\\\_libs\\\\hashtable_class_helper.pxi:7081\u001B[0m, in \u001B[0;36mpandas._libs.hashtable.PyObjectHashTable.get_item\u001B[1;34m()\u001B[0m\n",
      "File \u001B[1;32mpandas\\\\_libs\\\\hashtable_class_helper.pxi:7089\u001B[0m, in \u001B[0;36mpandas._libs.hashtable.PyObjectHashTable.get_item\u001B[1;34m()\u001B[0m\n",
      "\u001B[1;31mKeyError\u001B[0m: 0",
      "\nThe above exception was the direct cause of the following exception:\n",
      "\u001B[1;31mKeyError\u001B[0m                                  Traceback (most recent call last)",
      "Cell \u001B[1;32mIn[108], line 1\u001B[0m\n\u001B[1;32m----> 1\u001B[0m \u001B[43mX\u001B[49m\u001B[43m[\u001B[49m\u001B[38;5;241;43m0\u001B[39;49m\u001B[43m]\u001B[49m\n",
      "File \u001B[1;32m~\\AppData\\Local\\pypoetry\\Cache\\virtualenvs\\comp258-FNsmQjYB-py3.10\\lib\\site-packages\\pandas\\core\\frame.py:4090\u001B[0m, in \u001B[0;36mDataFrame.__getitem__\u001B[1;34m(self, key)\u001B[0m\n\u001B[0;32m   4088\u001B[0m \u001B[38;5;28;01mif\u001B[39;00m \u001B[38;5;28mself\u001B[39m\u001B[38;5;241m.\u001B[39mcolumns\u001B[38;5;241m.\u001B[39mnlevels \u001B[38;5;241m>\u001B[39m \u001B[38;5;241m1\u001B[39m:\n\u001B[0;32m   4089\u001B[0m     \u001B[38;5;28;01mreturn\u001B[39;00m \u001B[38;5;28mself\u001B[39m\u001B[38;5;241m.\u001B[39m_getitem_multilevel(key)\n\u001B[1;32m-> 4090\u001B[0m indexer \u001B[38;5;241m=\u001B[39m \u001B[38;5;28;43mself\u001B[39;49m\u001B[38;5;241;43m.\u001B[39;49m\u001B[43mcolumns\u001B[49m\u001B[38;5;241;43m.\u001B[39;49m\u001B[43mget_loc\u001B[49m\u001B[43m(\u001B[49m\u001B[43mkey\u001B[49m\u001B[43m)\u001B[49m\n\u001B[0;32m   4091\u001B[0m \u001B[38;5;28;01mif\u001B[39;00m is_integer(indexer):\n\u001B[0;32m   4092\u001B[0m     indexer \u001B[38;5;241m=\u001B[39m [indexer]\n",
      "File \u001B[1;32m~\\AppData\\Local\\pypoetry\\Cache\\virtualenvs\\comp258-FNsmQjYB-py3.10\\lib\\site-packages\\pandas\\core\\indexes\\base.py:3809\u001B[0m, in \u001B[0;36mIndex.get_loc\u001B[1;34m(self, key)\u001B[0m\n\u001B[0;32m   3804\u001B[0m     \u001B[38;5;28;01mif\u001B[39;00m \u001B[38;5;28misinstance\u001B[39m(casted_key, \u001B[38;5;28mslice\u001B[39m) \u001B[38;5;129;01mor\u001B[39;00m (\n\u001B[0;32m   3805\u001B[0m         \u001B[38;5;28misinstance\u001B[39m(casted_key, abc\u001B[38;5;241m.\u001B[39mIterable)\n\u001B[0;32m   3806\u001B[0m         \u001B[38;5;129;01mand\u001B[39;00m \u001B[38;5;28many\u001B[39m(\u001B[38;5;28misinstance\u001B[39m(x, \u001B[38;5;28mslice\u001B[39m) \u001B[38;5;28;01mfor\u001B[39;00m x \u001B[38;5;129;01min\u001B[39;00m casted_key)\n\u001B[0;32m   3807\u001B[0m     ):\n\u001B[0;32m   3808\u001B[0m         \u001B[38;5;28;01mraise\u001B[39;00m InvalidIndexError(key)\n\u001B[1;32m-> 3809\u001B[0m     \u001B[38;5;28;01mraise\u001B[39;00m \u001B[38;5;167;01mKeyError\u001B[39;00m(key) \u001B[38;5;28;01mfrom\u001B[39;00m \u001B[38;5;21;01merr\u001B[39;00m\n\u001B[0;32m   3810\u001B[0m \u001B[38;5;28;01mexcept\u001B[39;00m \u001B[38;5;167;01mTypeError\u001B[39;00m:\n\u001B[0;32m   3811\u001B[0m     \u001B[38;5;66;03m# If we have a listlike key, _check_indexing_error will raise\u001B[39;00m\n\u001B[0;32m   3812\u001B[0m     \u001B[38;5;66;03m#  InvalidIndexError. Otherwise we fall through and re-raise\u001B[39;00m\n\u001B[0;32m   3813\u001B[0m     \u001B[38;5;66;03m#  the TypeError.\u001B[39;00m\n\u001B[0;32m   3814\u001B[0m     \u001B[38;5;28mself\u001B[39m\u001B[38;5;241m.\u001B[39m_check_indexing_error(key)\n",
      "\u001B[1;31mKeyError\u001B[0m: 0"
     ]
    }
   ],
   "source": [
    "X[0]"
   ]
  },
  {
   "cell_type": "code",
   "execution_count": null,
   "id": "6ee711d4-e761-453d-9973-e41a860ddc51",
   "metadata": {
    "ExecuteTime": {
     "start_time": "2024-02-29T04:38:55.126253600Z"
    }
   },
   "outputs": [],
   "source": []
  }
 ],
 "metadata": {
  "kernelspec": {
   "display_name": "Python 3 (ipykernel)",
   "language": "python",
   "name": "python3"
  },
  "language_info": {
   "codemirror_mode": {
    "name": "ipython",
    "version": 3
   },
   "file_extension": ".py",
   "mimetype": "text/x-python",
   "name": "python",
   "nbconvert_exporter": "python",
   "pygments_lexer": "ipython3",
   "version": "3.10.0"
  }
 },
 "nbformat": 4,
 "nbformat_minor": 5
}
