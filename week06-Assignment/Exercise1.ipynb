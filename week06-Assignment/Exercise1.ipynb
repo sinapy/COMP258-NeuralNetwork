{
 "cells": [
  {
   "cell_type": "code",
   "execution_count": null,
   "id": "3c7c49df-f6d8-4322-b3ca-f01c4fd4f122",
   "metadata": {},
   "outputs": [],
   "source": [
    "from ucimlrepo import fetch_ucirepo \n",
    "  \n",
    "# fetch dataset \n",
    "cirrhosis_patient_survival_prediction = fetch_ucirepo(id=878) \n",
    "  \n",
    "# data (as pandas dataframes) \n",
    "X = cirrhosis_patient_survival_prediction.data.features \n",
    "y = cirrhosis_patient_survival_prediction.data.targets \n",
    "  \n",
    "# metadata \n",
    "print(cirrhosis_patient_survival_prediction.metadata) \n",
    "  \n",
    "# variable information \n",
    "print(cirrhosis_patient_survival_prediction.variables) \n"
   ]
  },
  {
   "cell_type": "code",
   "execution_count": null,
   "outputs": [],
   "source": [
    "cirrhosis_patient_survival_prediction.variables"
   ],
   "metadata": {
    "collapsed": false
   },
   "id": "509a70d1f18c64d5"
  },
  {
   "cell_type": "code",
   "execution_count": null,
   "id": "49dd59cd-c567-46b0-a125-b79dc3dee166",
   "metadata": {},
   "outputs": [],
   "source": [
    "most_common_hepatomegaly = X['Hepatomegaly'].value_counts().idxmax()\n",
    "(X['Hepatomegaly'] == 'NA').sum()\n",
    "X = X[X['Hepatomegaly'] != \"NaNN\"]"
   ]
  },
  {
   "cell_type": "code",
   "execution_count": null,
   "id": "60592b41-0876-4c49-bd22-9d42b203dbfc",
   "metadata": {},
   "outputs": [],
   "source": [
    "X.isnull().sum()"
   ]
  },
  {
   "cell_type": "code",
   "execution_count": null,
   "outputs": [],
   "source": [
    "X = X[X['Cholesterol'] != 'NaNN']\n",
    "X['Cholesterol'].astype(float).mean()"
   ],
   "metadata": {
    "collapsed": false
   },
   "id": "e0b48f835decb145"
  },
  {
   "cell_type": "code",
   "execution_count": null,
   "outputs": [],
   "source": [
    "X['Cholesterol'] = X['Cholesterol'].fillna(X['Cholesterol'].astype(float).mean())\n",
    "X['Cholesterol'] = X['Cholesterol'].astype(float)\n",
    "X['Cholesterol'].isnull().sum()"
   ],
   "metadata": {
    "collapsed": false
   },
   "id": "d800c84beee562d8"
  },
  {
   "cell_type": "code",
   "execution_count": null,
   "outputs": [],
   "source": [
    "# get all distinct values of the column Hepatomegaly\n",
    "X['Hepatomegaly'].value_counts()"
   ],
   "metadata": {
    "collapsed": false
   },
   "id": "6fd7b7e75998d346"
  },
  {
   "cell_type": "code",
   "execution_count": null,
   "outputs": [],
   "source": [
    "# get all distinct values of the column Spiders\n",
    "X['Spiders'].value_counts()"
   ],
   "metadata": {
    "collapsed": false
   },
   "id": "7c8c63bde0f346f4"
  },
  {
   "cell_type": "code",
   "execution_count": null,
   "outputs": [],
   "source": [
    "# get all distinct values of the column Ascites\n",
    "X['Ascites'].value_counts()"
   ],
   "metadata": {
    "collapsed": false
   },
   "id": "4b9ac21103d9b5ae"
  },
  {
   "cell_type": "code",
   "execution_count": null,
   "outputs": [],
   "source": [
    "# get all distinct values of Sex\n",
    "X['Sex'].value_counts()"
   ],
   "metadata": {
    "collapsed": false
   },
   "id": "ce2734a1b0a2d627"
  },
  {
   "cell_type": "code",
   "execution_count": null,
   "outputs": [],
   "source": [
    "# get all distinct values of Drug\n",
    "X['Drug'].value_counts()"
   ],
   "metadata": {
    "collapsed": false
   },
   "id": "955138d949e2f283"
  },
  {
   "cell_type": "code",
   "execution_count": null,
   "outputs": [],
   "source": [
    "X = X.drop('Drug', axis=1)"
   ],
   "metadata": {
    "collapsed": false
   },
   "id": "766f2d7bc2141fd3"
  },
  {
   "cell_type": "code",
   "execution_count": null,
   "outputs": [],
   "source": [
    "most_common_hepatomegaly = X['Hepatomegaly'].value_counts().idxmax()\n",
    "most_common_hepatomegaly"
   ],
   "metadata": {
    "collapsed": false
   },
   "id": "51edad59a67c4669"
  },
  {
   "cell_type": "code",
   "execution_count": null,
   "outputs": [],
   "source": [
    "X['Hepatomegaly'] = X['Hepatomegaly'].fillna(most_common_hepatomegaly)"
   ],
   "metadata": {
    "collapsed": false
   },
   "id": "ef8665d4aca06a51"
  },
  {
   "cell_type": "code",
   "execution_count": null,
   "outputs": [],
   "source": [
    "X['Hepatomegaly'].isnull().sum()"
   ],
   "metadata": {
    "collapsed": false
   },
   "id": "a114c17055363ff1"
  },
  {
   "cell_type": "code",
   "execution_count": null,
   "outputs": [],
   "source": [
    "X['Spiders'] = X['Spiders'].fillna(X['Spiders'].value_counts().idxmax())\n",
    "X['Spiders'].isnull().sum()"
   ],
   "metadata": {
    "collapsed": false
   },
   "id": "58897d652f494ccc"
  },
  {
   "cell_type": "code",
   "execution_count": null,
   "outputs": [],
   "source": [
    "X['Ascites'] = X['Ascites'].fillna(X['Ascites'].value_counts().idxmax())\n",
    "X['Ascites'].isnull().sum()"
   ],
   "metadata": {
    "collapsed": false
   },
   "id": "29c5cf91cff7a9e4"
  },
  {
   "cell_type": "code",
   "execution_count": null,
   "outputs": [],
   "source": [
    "X['Sex'] = X['Sex'].fillna(X['Sex'].value_counts().idxmax())\n",
    "X['Sex'].isnull().sum()"
   ],
   "metadata": {
    "collapsed": false
   },
   "id": "157908e536a5f9fb"
  },
  {
   "cell_type": "code",
   "execution_count": null,
   "outputs": [],
   "source": [
    "X['Hepatomegaly'] = X['Hepatomegaly'].replace({'Y': 1, 'N': 0}).astype(int)\n",
    "X['Hepatomegaly'].value_counts()"
   ],
   "metadata": {
    "collapsed": false
   },
   "id": "a3b5f36f79f05556"
  },
  {
   "cell_type": "code",
   "execution_count": null,
   "outputs": [],
   "source": [
    "X['Spiders'] = X['Spiders'].replace({'Y': 1, 'N': 0}).astype(int)\n",
    "X['Spiders'].value_counts()"
   ],
   "metadata": {
    "collapsed": false
   },
   "id": "2adee1745f9c06c3"
  },
  {
   "cell_type": "code",
   "execution_count": null,
   "outputs": [],
   "source": [
    "X['Ascites'] = X['Ascites'].replace({'Y': 1, 'N': 0}).astype(int)\n",
    "X['Ascites'].value_counts()"
   ],
   "metadata": {
    "collapsed": false
   },
   "id": "4c99358a12f6d630"
  },
  {
   "cell_type": "code",
   "execution_count": null,
   "outputs": [],
   "source": [
    "X['Sex'] = X['Sex'].replace({'M': 0, 'F': 1}).astype(int)\n",
    "X['Sex'].value_counts()"
   ],
   "metadata": {
    "collapsed": false
   },
   "id": "2451558df7809990"
  },
  {
   "cell_type": "code",
   "execution_count": null,
   "outputs": [],
   "source": [
    "X['Edema'] = X['Edema'].replace({'N': 0, 'S': 1, \"Y\": 2}).astype(int)\n",
    "X['Edema'].value_counts()"
   ],
   "metadata": {
    "collapsed": false
   },
   "id": "f8e81b23e19342f6"
  },
  {
   "cell_type": "code",
   "execution_count": null,
   "outputs": [],
   "source": [
    "# fill the missing values of the columns that have missing values\n",
    "X = X[X['Copper'] != \"NaNN\"]\n",
    "X['Copper'] = X['Copper'].fillna(X['Copper'].astype(float).mean())\n",
    "X['Alk_Phos'] = X['Alk_Phos'].fillna(X['Alk_Phos'].astype(float).mean())\n",
    "X['SGOT'] = X['SGOT'].fillna(X['SGOT'].astype(float).mean())\n",
    "X = X[X['Tryglicerides'] != \"NaNN\"]\n",
    "X['Tryglicerides'] = X['Tryglicerides'].fillna(X['Tryglicerides'].astype(float).mean())\n",
    "X = X[X['Platelets'] != \"NaNN\"]\n",
    "X['Platelets'] = X['Platelets'].fillna(X['Platelets'].astype(float).mean())\n",
    "X['Prothrombin'] = X['Prothrombin'].fillna(X['Prothrombin'].astype(float).mean())\n",
    "X['Stage'] = X['Stage'].fillna(X['Stage'].astype(float).mean())"
   ],
   "metadata": {
    "collapsed": false
   },
   "id": "93aec276ac0a79a2"
  },
  {
   "cell_type": "code",
   "execution_count": null,
   "outputs": [],
   "source": [
    "y.value_counts()"
   ],
   "metadata": {
    "collapsed": false
   },
   "id": "25762fbf203617ae"
  },
  {
   "cell_type": "code",
   "execution_count": null,
   "outputs": [],
   "source": [
    "y['Status'] = y['Status'].replace({'C': 0, 'D': 1, 'CL': 2}).astype(int)"
   ],
   "metadata": {
    "collapsed": false
   },
   "id": "2d51974554eec341"
  },
  {
   "cell_type": "code",
   "execution_count": 1,
   "outputs": [],
   "source": [
    "import numpy as np\n",
    "import matplotlib.pyplot as pl\n",
    "%matplotlib inline\n",
    "\n",
    "#\n",
    "# function to compute the sigmoid\n",
    "sigmoid = lambda x: 1/(1 + np.exp(-x));\n",
    "\n",
    "def backprop(W1, W2, X, D):\n",
    "    alpha = 0.9 # Learning rate\n",
    "    N = X.shape[0]\n",
    "    for k in range(0, N):\n",
    "        x = X[k, :].reshape(-1, 1)\n",
    "        d = D[k].reshape(-1, 1)\n",
    "        ##############################\n",
    "        # forward propogation stop\n",
    "        ##############################\n",
    "        # calculate the weighted sum of hidden node\n",
    "        v1 = np.dot(W1, x)\n",
    "        #pass the weighted sum to the activation function, this gives the output from hidden layer\n",
    "        y1 = sigmoid(v1);\n",
    "        v2 = np.dot(W2, y1)\n",
    "        y = sigmoid(v2)\n",
    "        #calculate the error, difference between correct output and computed output\n",
    "        e = d - y\n",
    "        #calculate delta, derivative of the activation function times the error\n",
    "        delta = y*(1-y)*e\n",
    "        ###########################\n",
    "        # Backward propagation step\n",
    "        ###########################\n",
    "        # propagate the output node delta, δ, backward, and calculate the deltas of the hidden layer\n",
    "        e1 = np.dot(W2.T, delta)\n",
    "        delta1 = y1*(1-y1)*e1\n",
    "    \n",
    "        # Adjust the weights according to the learning rule\n",
    "        # delta1.shape=(6,1) # column vector of deltas for the hidden layer\n",
    "        # x.shape=(1,16) # row vector of the current input\n",
    "        dW1 = alpha*np.dot(delta1,x.T)\n",
    "        W1 = W1 + dW1\n",
    "    \n",
    "        # y1.shape = (1, 3)\n",
    "        dW2 = alpha*np.dot(delta,y1.T)\n",
    "        W2 = W2 + dW2\n",
    "        \n",
    "    return W1, W2\n",
    "\n"
   ],
   "metadata": {
    "collapsed": false,
    "ExecuteTime": {
     "end_time": "2024-02-25T00:44:42.497870900Z",
     "start_time": "2024-02-25T00:44:41.545967Z"
    }
   },
   "id": "ebf5fd22-c366-4bf3-a808-e9e4a1a6b788"
  },
  {
   "cell_type": "code",
   "execution_count": null,
   "outputs": [],
   "source": [
    "X = X.astype(float)"
   ],
   "metadata": {
    "collapsed": false
   },
   "id": "a9689657964f4bcb"
  },
  {
   "cell_type": "code",
   "execution_count": null,
   "id": "2eedca6d-e217-417a-8604-cd3944fa98a8",
   "metadata": {
    "is_executing": true
   },
   "outputs": [],
   "source": [
    "#################################\n",
    "# Testing backprop\n",
    "#################################\n",
    "# inputs array\n",
    "npX = np.array(X)\n",
    "npy = np.array(y)\n",
    "print(X.shape)\n",
    "print(y.shape)\n",
    "# initialize the weights between input layer and hidden layer\n",
    "W1 = 2*np.random.rand(6, 16) - 1\n",
    "# initialize the weights between hidden layer and output layer\n",
    "W2 = 2*np.random.rand(3, 6) - 1\n",
    "\n",
    "for epoch in range(1, 10000): #train\n",
    "    W1, W2 = backprop(W1, W2, npX, npy)\n"
   ]
  },
  {
   "cell_type": "code",
   "execution_count": null,
   "id": "9154a569-2948-4958-abf2-66e690081b68",
   "metadata": {},
   "outputs": [],
   "source": [
    "X[0]"
   ]
  },
  {
   "cell_type": "code",
   "execution_count": null,
   "id": "6ee711d4-e761-453d-9973-e41a860ddc51",
   "metadata": {},
   "outputs": [],
   "source": []
  }
 ],
 "metadata": {
  "kernelspec": {
   "display_name": "Python 3 (ipykernel)",
   "language": "python",
   "name": "python3"
  },
  "language_info": {
   "codemirror_mode": {
    "name": "ipython",
    "version": 3
   },
   "file_extension": ".py",
   "mimetype": "text/x-python",
   "name": "python",
   "nbconvert_exporter": "python",
   "pygments_lexer": "ipython3",
   "version": "3.10.0"
  }
 },
 "nbformat": 4,
 "nbformat_minor": 5
}
