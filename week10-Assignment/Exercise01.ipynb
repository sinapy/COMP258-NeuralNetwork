{
 "cells": [
  {
   "cell_type": "code",
   "execution_count": null,
   "id": "initial_id",
   "metadata": {
    "collapsed": true
   },
   "outputs": [],
   "source": [
    "\"\"\"\n",
    "Using TensorFlow Data API, load data and perform the necessary preprocessing steps for the:\n",
    "•\tLoading data\n",
    "•\tConverting categorical features to numerical\n",
    "•\tTransformations\n",
    "•\tStandardization\n",
    "\"\"\"\n",
    "\n",
    "# Load data with TensorFlow Data API from \"default of credit card clients.xls\"\n",
    "data = pd.read_excel('default of credit card clients.xls', header=1)\n",
    "# Convert data to tensorflow data api \n",
    "data = tf.data.Dataset.from_tensor_slices(dict(data))\n",
    "\n",
    "# Convert categorical features to numerical\n",
    "data = data.map(lambda x: (tf.stack([x['LIMIT_BAL'], x['\n"
   ]
  }
 ],
 "metadata": {
  "kernelspec": {
   "display_name": "Python 3",
   "language": "python",
   "name": "python3"
  },
  "language_info": {
   "codemirror_mode": {
    "name": "ipython",
    "version": 2
   },
   "file_extension": ".py",
   "mimetype": "text/x-python",
   "name": "python",
   "nbconvert_exporter": "python",
   "pygments_lexer": "ipython2",
   "version": "2.7.6"
  }
 },
 "nbformat": 4,
 "nbformat_minor": 5
}
