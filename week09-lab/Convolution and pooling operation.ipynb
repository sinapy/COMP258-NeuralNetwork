{
 "cells": [
  {
   "cell_type": "markdown",
   "metadata": {},
   "source": [
    "## Implementing the convolution operation"
   ]
  },
  {
   "cell_type": "markdown",
   "metadata": {},
   "source": [
    "In order to understand the mechanism of the discrete convolution operation, lets do a simple intuitive implementation of this concept, and apply it over a sample image, with different types of kernels.\n",
    "Let's import the needed libraries. As we will implement the algorithms in a most clear possible way, we will just use the minimum necessary ones, like numpy (Which is used in a basic manner )"
   ]
  },
  {
   "cell_type": "code",
   "execution_count": 1,
   "metadata": {},
   "outputs": [],
   "source": [
    "import matplotlib.pyplot as plt\n",
    "import imageio\n",
    "import numpy as np\n"
   ]
  },
  {
   "cell_type": "markdown",
   "metadata": {},
   "source": [
    "Using the imread method of the imageio package, let's read the image (imported as 3 equal channels, being grayscale), we then slice the first channel, convert it as a float point, and show it using matplotlib."
   ]
  },
  {
   "cell_type": "code",
   "execution_count": 3,
   "metadata": {},
   "outputs": [
    {
     "name": "stderr",
     "output_type": "stream",
     "text": [
      "C:\\Users\\301212298\\AppData\\Local\\Temp\\ipykernel_11580\\2777921178.py:1: DeprecationWarning: Starting with ImageIO v3 the behavior of this function will switch to that of iio.v3.imread. To keep the current behavior (and make this warning disappear) use `import imageio.v2 as imageio` or call `imageio.v2.imread` directly.\n",
      "  arr = imageio.imread(\"b.bmp\") [:,:,0].astype(np.float)\n"
     ]
    },
    {
     "ename": "AttributeError",
     "evalue": "module 'numpy' has no attribute 'float'.\n`np.float` was a deprecated alias for the builtin `float`. To avoid this error in existing code, use `float` by itself. Doing this will not modify any behavior and is safe. If you specifically wanted the numpy scalar type, use `np.float64` here.\nThe aliases was originally deprecated in NumPy 1.20; for more details and guidance see the original release note at:\n    https://numpy.org/devdocs/release/1.20.0-notes.html#deprecations",
     "output_type": "error",
     "traceback": [
      "\u001b[1;31m---------------------------------------------------------------------------\u001b[0m",
      "\u001b[1;31mAttributeError\u001b[0m                            Traceback (most recent call last)",
      "Cell \u001b[1;32mIn[3], line 1\u001b[0m\n\u001b[1;32m----> 1\u001b[0m arr \u001b[38;5;241m=\u001b[39m imageio\u001b[38;5;241m.\u001b[39mimread(\u001b[38;5;124m\"\u001b[39m\u001b[38;5;124mb.bmp\u001b[39m\u001b[38;5;124m\"\u001b[39m) [:,:,\u001b[38;5;241m0\u001b[39m]\u001b[38;5;241m.\u001b[39mastype(\u001b[43mnp\u001b[49m\u001b[38;5;241;43m.\u001b[39;49m\u001b[43mfloat\u001b[49m)\n\u001b[0;32m      2\u001b[0m plt\u001b[38;5;241m.\u001b[39mimshow(arr, cmap\u001b[38;5;241m=\u001b[39mplt\u001b[38;5;241m.\u001b[39mget_cmap(\u001b[38;5;124m'\u001b[39m\u001b[38;5;124mbinary_r\u001b[39m\u001b[38;5;124m'\u001b[39m))\n\u001b[0;32m      3\u001b[0m plt\u001b[38;5;241m.\u001b[39mshow()\n",
      "File \u001b[1;32m~\\AppData\\Local\\pypoetry\\Cache\\virtualenvs\\comp258-FNsmQjYB-py3.10\\lib\\site-packages\\numpy\\__init__.py:338\u001b[0m, in \u001b[0;36m__getattr__\u001b[1;34m(attr)\u001b[0m\n\u001b[0;32m    333\u001b[0m     warnings\u001b[38;5;241m.\u001b[39mwarn(\n\u001b[0;32m    334\u001b[0m         \u001b[38;5;124mf\u001b[39m\u001b[38;5;124m\"\u001b[39m\u001b[38;5;124mIn the future `np.\u001b[39m\u001b[38;5;132;01m{\u001b[39;00mattr\u001b[38;5;132;01m}\u001b[39;00m\u001b[38;5;124m` will be defined as the \u001b[39m\u001b[38;5;124m\"\u001b[39m\n\u001b[0;32m    335\u001b[0m         \u001b[38;5;124m\"\u001b[39m\u001b[38;5;124mcorresponding NumPy scalar.\u001b[39m\u001b[38;5;124m\"\u001b[39m, \u001b[38;5;167;01mFutureWarning\u001b[39;00m, stacklevel\u001b[38;5;241m=\u001b[39m\u001b[38;5;241m2\u001b[39m)\n\u001b[0;32m    337\u001b[0m \u001b[38;5;28;01mif\u001b[39;00m attr \u001b[38;5;129;01min\u001b[39;00m __former_attrs__:\n\u001b[1;32m--> 338\u001b[0m     \u001b[38;5;28;01mraise\u001b[39;00m \u001b[38;5;167;01mAttributeError\u001b[39;00m(__former_attrs__[attr])\n\u001b[0;32m    340\u001b[0m \u001b[38;5;28;01mif\u001b[39;00m attr \u001b[38;5;241m==\u001b[39m \u001b[38;5;124m'\u001b[39m\u001b[38;5;124mtesting\u001b[39m\u001b[38;5;124m'\u001b[39m:\n\u001b[0;32m    341\u001b[0m     \u001b[38;5;28;01mimport\u001b[39;00m \u001b[38;5;21;01mnumpy\u001b[39;00m\u001b[38;5;21;01m.\u001b[39;00m\u001b[38;5;21;01mtesting\u001b[39;00m \u001b[38;5;28;01mas\u001b[39;00m \u001b[38;5;21;01mtesting\u001b[39;00m\n",
      "\u001b[1;31mAttributeError\u001b[0m: module 'numpy' has no attribute 'float'.\n`np.float` was a deprecated alias for the builtin `float`. To avoid this error in existing code, use `float` by itself. Doing this will not modify any behavior and is safe. If you specifically wanted the numpy scalar type, use `np.float64` here.\nThe aliases was originally deprecated in NumPy 1.20; for more details and guidance see the original release note at:\n    https://numpy.org/devdocs/release/1.20.0-notes.html#deprecations"
     ]
    }
   ],
   "source": [
    "arr = imageio.imread(\"b.bmp\") [:,:,0].astype(np.float)\n",
    "plt.imshow(arr, cmap=plt.get_cmap('binary_r'))\n",
    "plt.show()\n"
   ]
  },
  {
   "cell_type": "markdown",
   "metadata": {},
   "source": [
    "Now its time to define the kernel convolution operation. As we see we will simplify the operation on a 3x3 kernel, in order to better understand the border conditions.\n",
    "The apply3x3kernel will appy the kernel over all the elements of the image, returning a new equivalent image. Note that we are restricting the kernels to 3x3 for simplicity, and so the 1pz border of the image won't have any new value, because we are not taking padding in consideration."
   ]
  },
  {
   "cell_type": "code",
   "execution_count": null,
   "metadata": {},
   "outputs": [],
   "source": [
    "class ConvolutionalOperation:\n",
    "    def apply3x3kernel(self, image, kernel):  # Simple 3x3 kernel operation\n",
    "        newimage=np.array(image)\n",
    "        for m in range(1,image.shape[0]-2):\n",
    "            for n in range(1,image.shape[1]-2):\n",
    "                newelement = 0\n",
    "                for i in range(0, 3):\n",
    "                    for j in range(0, 3):\n",
    "                        newelement = newelement + image[m - 1 + i][n - 1+ j]*kernel[i][j]\n",
    "                newimage[m][n] = newelement\n",
    "        return (newimage)\n",
    "    "
   ]
  },
  {
   "cell_type": "markdown",
   "metadata": {},
   "source": [
    "As we saw on the previous sections, the different kernel configurations highlight different elements and properties of the original image, building filters that in conjunction, can after many epochs of training specialize in very high level features, like eyes, ears, doors, etc.\n",
    "Here we will generate a dictionary of kernels, with a name as key, and the coefficients of the kernel in a 3x3 array fashion.\n",
    "The blur filter is equivalent to calculating the average on the 3x3 point neighborhood, Identity simple returns the pixel value as is, laplacian is a classic derivative filter, which highlights borders, and then the two Sobel filters we will generate will mark, in the first case horizontal edges, and in the second, vertical ones."
   ]
  },
  {
   "cell_type": "code",
   "execution_count": null,
   "metadata": {},
   "outputs": [],
   "source": [
    "kernels = {\"Blur\":[[1./16., 1./8., 1./16.], [1./8., 1./4., 1./8.], [1./16., 1./8., 1./16.]]\n",
    "           ,\"Identity\":[[0, 0, 0], [0., 1., 0.], [0., 0., 0.]]\n",
    "           ,\"Laplacian\":[[1., 2., 1.], [0., 0., 0.], [-1., -2., -1.]]\n",
    "           ,\"Left Sobel\":[[1., 0., -1.], [2., 0., -2.], [1., 0., -1.]]\n",
    "           ,\"Upper Sobel\":[[1., 2., 1.], [0., 0., 0.], [-1., -2., -1.]]}\n"
   ]
  },
  {
   "cell_type": "markdown",
   "metadata": {},
   "source": [
    "Let's then generate a ConvolutionalOperation object, and generate a comparative kernel graphical chart, to see how they compare:"
   ]
  },
  {
   "cell_type": "code",
   "execution_count": null,
   "metadata": {},
   "outputs": [],
   "source": [
    "conv = ConvolutionalOperation()\n",
    "plt.figure(figsize=(30,30))\n",
    "fig, axs = plt.subplots(figsize=(30,30))\n",
    "j=1\n",
    "for key,value in kernels.items():\n",
    "    axs = fig.add_subplot(3,2,j)\n",
    "    out = conv.apply3x3kernel(arr, value)\n",
    "    plt.imshow(out, cmap=plt.get_cmap('binary_r'))\n",
    "    j=j+1\n",
    "plt.show()\n"
   ]
  },
  {
   "cell_type": "markdown",
   "metadata": {},
   "source": [
    "Now it's time to write a simple pooling operator. It's much more easy and direct to write as the convolutional one, and the in this case we will be just implementing the max pooling, wich chooses the brightest pixel in the 4x4 vicinity, and projects to the final image. Other common operations are minimum, and average value."
   ]
  },
  {
   "cell_type": "code",
   "execution_count": null,
   "metadata": {},
   "outputs": [],
   "source": [
    "class PoolingOperation:\n",
    "    def apply2x2pooling(self, image, stride):  # Simple 2x2 kernel operation\n",
    "        newimage=np.zeros((int(image.shape[0]/2),int(image.shape[1]/2)),np.float32)\n",
    "        for m in range(1,image.shape[0]-2,2):\n",
    "            for n in range(1,image.shape[1]-2,2):\n",
    "                newimage[int(m/2),int(n/2)] = np.max(image[m:m+2,n:n+2])\n",
    "        return (newimage)\n",
    "    "
   ]
  },
  {
   "cell_type": "markdown",
   "metadata": {},
   "source": [
    "Let's apply the newly created pooling operation, and as you see, the final image resolutin is much more blocky, and the details in general are brighter."
   ]
  },
  {
   "cell_type": "code",
   "execution_count": null,
   "metadata": {},
   "outputs": [],
   "source": [
    "plt.figure(figsize=(30,30))\n",
    "pool=PoolingOperation()\n",
    "fig, axs = plt.subplots(figsize=(20,10))\n",
    "axs = fig.add_subplot(1,2,1)\n",
    "plt.imshow(arr, cmap=plt.get_cmap('binary_r'))\n",
    "out=pool.apply2x2pooling(arr,1)\n",
    "axs = fig.add_subplot(1,2,2)\n",
    "plt.imshow(out, cmap=plt.get_cmap('binary_r'))\n",
    "plt.show()\n"
   ]
  },
  {
   "cell_type": "code",
   "execution_count": null,
   "metadata": {},
   "outputs": [],
   "source": []
  }
 ],
 "metadata": {
  "kernelspec": {
   "display_name": "Python 3 (ipykernel)",
   "language": "python",
   "name": "python3"
  },
  "language_info": {
   "codemirror_mode": {
    "name": "ipython",
    "version": 3
   },
   "file_extension": ".py",
   "mimetype": "text/x-python",
   "name": "python",
   "nbconvert_exporter": "python",
   "pygments_lexer": "ipython3",
   "version": "3.10.0"
  }
 },
 "nbformat": 4,
 "nbformat_minor": 4
}
