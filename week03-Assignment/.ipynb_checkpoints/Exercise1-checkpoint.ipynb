{
 "cells": [
  {
   "cell_type": "code",
   "execution_count": 5,
   "id": "edfca8b5-3645-4465-91b0-c592ad8680fd",
   "metadata": {},
   "outputs": [],
   "source": [
    "input1A = [0,0,2,2,0,0,0,\n",
    "           0,0,0,2,0,0,0,\n",
    "           0,0,0,2,0,0,0,\n",
    "           0,0,2,0,2,0,0,\n",
    "           0,0,2,0,2,0,0,\n",
    "           0,2,2,2,2,2,0,\n",
    "           0,2,0,0,0,2,0,\n",
    "           0,2,0,0,0,2,0,\n",
    "           2,2,2,0,2,2,2\n",
    "          ]\n",
    "input1B = [2,2,2,2,2,2,0,\n",
    "           0,2,0,0,0,0,2,\n",
    "           0,2,0,0,0,0,2,\n",
    "           0,2,0,0,0,0,2,\n",
    "           0,2,2,2,2,2,0,\n",
    "           0,2,0,0,0,0,2,\n",
    "           0,2,0,0,0,0,2,\n",
    "           0,2,0,0,0,0,2,\n",
    "           2,2,2,2,2,2,0,\n",
    "          ]\n",
    "input1C = [0,0,2,2,2,2,2,\n",
    "           0,2,0,0,0,0,2,\n",
    "           2,0,0,0,0,0,0,\n",
    "           2,0,0,0,0,0,0,\n",
    "           2,0,0,0,0,0,0,\n",
    "           2,0,0,0,0,0,0,\n",
    "           2,0,0,0,0,0,0,\n",
    "           0,2,0,0,0,0,2,\n",
    "           0,0,2,2,2,2,2,\n",
    "          ]\n",
    "input1D = [2,2,2,2,2,0,0,\n",
    "           0,2,0,0,0,2,0,\n",
    "           0,2,0,0,0,0,2,\n",
    "           0,2,0,0,0,0,2,\n",
    "           0,2,0,0,0,0,2,\n",
    "           0,2,0,0,0,0,2,\n",
    "           0,2,0,0,0,0,2,\n",
    "           0,2,0,0,0,2,0,\n",
    "           2,2,2,2,2,0,0,\n",
    "          ]\n",
    "input1E = [2,2,2,2,2,2,2,\n",
    "           0,2,0,0,0,0,2,\n",
    "           0,2,0,0,0,0,0,\n",
    "           0,2,0,2,0,0,0,\n",
    "           0,2,2,2,0,0,0,\n",
    "           0,2,0,2,0,0,0,\n",
    "           0,2,0,0,0,0,0,\n",
    "           0,2,0,0,0,0,2,\n",
    "           2,2,2,2,2,2,2,\n",
    "          ]\n",
    "input1J = [0,0,0,2,2,2,2,\n",
    "           0,0,0,0,0,2,0,\n",
    "           0,0,0,0,0,2,0,\n",
    "           0,0,0,0,0,2,0,\n",
    "           0,0,0,0,0,2,0,\n",
    "           0,0,0,0,0,2,0,\n",
    "           0,2,0,0,0,2,0,\n",
    "           0,2,0,0,0,2,0,\n",
    "           0,0,2,2,2,0,0\n",
    "          ]\n",
    "input1K = [2,2,2,0,0,2,2,\n",
    "           0,2,0,0,2,0,0,\n",
    "           0,2,0,2,0,0,0,\n",
    "           0,2,2,0,0,0,0,\n",
    "           0,2,2,0,0,0,0,\n",
    "           0,2,0,2,0,0,0,\n",
    "           0,2,0,0,2,0,0,\n",
    "           0,2,0,0,0,2,0,\n",
    "           2,2,2,0,0,2,2,\n",
    "          ]\n"
   ]
  },
  {
   "cell_type": "code",
   "execution_count": 6,
   "id": "175577ce-545e-4c3b-9c2e-dbe09aefa277",
   "metadata": {},
   "outputs": [],
   "source": [
    "input2A = [0,0,0,2,0,0,0,\n",
    "           0,0,0,2,0,0,0,\n",
    "           0,0,0,2,0,0,0,\n",
    "           0,0,2,0,2,0,0,\n",
    "           0,0,2,0,2,0,0,\n",
    "           0,2,0,0,0,2,0,\n",
    "           0,2,2,2,2,2,0,\n",
    "           0,2,0,0,0,2,0,\n",
    "           0,2,0,0,0,2,0\n",
    "          ]\n",
    "input2B = [2,2,2,2,2,2,0,\n",
    "           2,0,0,0,0,0,2,\n",
    "           2,0,0,0,0,0,2,\n",
    "           2,0,0,0,0,0,2,\n",
    "           2,2,2,2,2,2,0,\n",
    "           2,0,0,0,0,0,2,\n",
    "           2,0,0,0,0,0,2,\n",
    "           2,0,0,0,0,0,2,\n",
    "           2,2,2,2,2,2,0,\n",
    "          ]\n",
    "input2C = [0,0,2,2,2,0,0,\n",
    "           0,2,0,0,0,2,0,\n",
    "           2,0,0,0,0,0,2,\n",
    "           2,0,0,0,0,0,0,\n",
    "           2,0,0,0,0,0,0,\n",
    "           2,0,0,0,0,0,0,\n",
    "           2,0,0,0,0,0,2,\n",
    "           0,2,0,0,0,2,0,\n",
    "           0,0,2,2,2,0,0,\n",
    "          ]\n",
    "input2D = [2,2,2,2,2,0,0,\n",
    "           2,0,0,0,0,2,0,\n",
    "           2,0,0,0,0,0,2,\n",
    "           2,0,0,0,0,0,2,\n",
    "           2,0,0,0,0,0,2,\n",
    "           2,0,0,0,0,0,2,\n",
    "           2,0,0,0,0,0,2,\n",
    "           2,0,0,0,0,2,0,\n",
    "           2,2,2,2,2,0,0,\n",
    "          ]\n",
    "input2E = [2,2,2,2,2,2,2,\n",
    "           2,0,0,0,0,0,0,\n",
    "           2,0,0,0,0,0,0,\n",
    "           2,0,0,0,0,0,0,\n",
    "           2,2,2,2,2,0,0,\n",
    "           2,0,0,0,0,0,0,\n",
    "           2,0,0,0,0,0,0,\n",
    "           2,0,0,0,0,0,0,\n",
    "           2,2,2,2,2,2,2,\n",
    "          ]\n",
    "input2J = [0,0,0,0,0,2,0,\n",
    "           0,0,0,0,0,2,0,\n",
    "           0,0,0,0,0,2,0,\n",
    "           0,0,0,0,0,2,0,\n",
    "           0,0,0,0,0,2,0,\n",
    "           0,0,0,0,0,2,0,\n",
    "           0,2,0,0,0,2,0,\n",
    "           0,2,0,0,0,2,0,\n",
    "           0,0,2,2,2,0,0\n",
    "          ]\n",
    "input2K = [2,0,0,0,0,2,0,\n",
    "           2,0,0,0,2,0,0,\n",
    "           2,0,0,2,0,0,0,\n",
    "           2,0,2,0,0,0,0,\n",
    "           2,2,0,0,0,0,0,\n",
    "           2,0,2,0,0,0,0,\n",
    "           2,0,0,2,0,0,0,\n",
    "           2,0,0,0,2,0,0,\n",
    "           2,0,0,0,0,2,0\n",
    "          ]"
   ]
  },
  {
   "cell_type": "code",
   "execution_count": 7,
   "id": "bd453272-7eb4-4354-955d-c80c3a8352a4",
   "metadata": {},
   "outputs": [],
   "source": [
    "input3A = [0,0,0,2,0,0,0,\n",
    "           0,0,0,2,0,0,0,\n",
    "           0,0,2,0,2,0,0,\n",
    "           0,0,2,0,2,0,0,\n",
    "           0,2,0,0,0,2,0,\n",
    "           0,2,2,2,2,2,0,\n",
    "           2,0,0,0,0,0,2,\n",
    "           2,0,0,0,0,0,2,\n",
    "           2,2,0,0,0,2,2\n",
    "          ]\n",
    "input3B = [2,2,2,2,2,2,0,\n",
    "           0,2,0,0,0,0,2,\n",
    "           0,2,0,0,0,0,2,\n",
    "           0,2,2,2,2,2,0,\n",
    "           0,2,0,0,0,0,2,\n",
    "           0,2,0,0,0,0,2,\n",
    "           0,2,0,0,0,0,2,\n",
    "           0,2,0,0,0,0,2,\n",
    "           2,2,2,2,2,2,0\n",
    "          ]\n",
    "input3C = [0,0,2,2,2,0,2,\n",
    "           0,2,0,0,0,2,2,\n",
    "           2,0,0,0,0,0,2,\n",
    "           2,0,0,0,0,0,0,\n",
    "           2,0,0,0,0,0,0,\n",
    "           2,0,0,0,0,0,0,\n",
    "           2,0,0,0,0,0,2,\n",
    "           0,2,0,0,0,2,0,\n",
    "           0,0,2,2,2,0,0,\n",
    "          ]\n",
    "input3D = [2,2,2,2,2,0,0,\n",
    "           0,2,0,0,0,2,0,\n",
    "           0,2,0,0,0,0,2,\n",
    "           0,2,0,0,0,0,2,\n",
    "           0,2,0,0,0,0,2,\n",
    "           0,2,0,0,0,0,2,\n",
    "           0,2,0,0,0,0,2,\n",
    "           0,2,0,0,0,2,0,\n",
    "           2,2,2,2,2,0,0,\n",
    "          ]\n",
    "input3E = [2,2,2,2,2,2,2,\n",
    "           0,2,0,0,0,0,2,\n",
    "           0,2,0,0,2,0,0,\n",
    "           0,2,2,2,2,0,0,\n",
    "           0,2,0,0,2,0,0,\n",
    "           0,2,0,0,0,0,0,\n",
    "           0,2,0,0,0,0,0,\n",
    "           0,2,0,0,0,0,2,\n",
    "           2,2,2,2,2,2,2,\n",
    "          ]\n",
    "input3J = [0,0,0,0,2,2,2,\n",
    "           0,0,0,0,0,2,0,\n",
    "           0,0,0,0,0,2,0,\n",
    "           0,0,0,0,0,2,0,\n",
    "           0,0,0,0,0,2,0,\n",
    "           0,0,0,0,0,2,0,\n",
    "           0,0,0,0,0,2,0,\n",
    "           0,2,0,0,0,2,0,\n",
    "           0,0,2,2,2,0,0,\n",
    "          ]\n",
    "input3K = [2,2,2,0,0,2,2,\n",
    "           0,2,0,0,0,2,0,\n",
    "           0,2,0,0,2,0,0,\n",
    "           0,2,0,2,0,0,0,\n",
    "           0,2,2,0,0,0,0,\n",
    "           0,2,0,2,0,0,0,\n",
    "           0,2,0,0,2,0,0,\n",
    "           0,2,0,0,0,2,0,\n",
    "           2,2,2,0,0,2,2,\n",
    "          ]\n",
    "           "
   ]
  },
  {
   "cell_type": "code",
   "execution_count": 8,
   "id": "687bb8ca-7c88-4fa1-97e4-b1529390b537",
   "metadata": {},
   "outputs": [],
   "source": [
    "import numpy as np\n",
    "input1A_second = np.array(input1A) - 1"
   ]
  },
  {
   "cell_type": "code",
   "execution_count": 9,
   "id": "282a07e8-8a07-46d2-b966-ef0a47de197f",
   "metadata": {},
   "outputs": [
    {
     "data": {
      "text/plain": [
       "array([-1, -1,  1,  1, -1, -1, -1, -1, -1, -1,  1, -1, -1, -1, -1, -1, -1,\n",
       "        1, -1, -1, -1, -1, -1,  1, -1,  1, -1, -1, -1, -1,  1, -1,  1, -1,\n",
       "       -1, -1,  1,  1,  1,  1,  1, -1, -1,  1, -1, -1, -1,  1, -1, -1,  1,\n",
       "       -1, -1, -1,  1, -1,  1,  1,  1, -1,  1,  1,  1])"
      ]
     },
     "execution_count": 9,
     "metadata": {},
     "output_type": "execute_result"
    }
   ],
   "source": [
    "input1A_second"
   ]
  },
  {
   "cell_type": "code",
   "execution_count": 10,
   "id": "87b2f433-c501-4355-8e81-dad9f54305a1",
   "metadata": {},
   "outputs": [],
   "source": [
    "class Perceptron(object):\n",
    "\n",
    "    def __init__(self, no_of_inputs, epochs=100, learning_rate=0.01):\n",
    "        self.epochs = epochs\n",
    "        self.learning_rate = learning_rate\n",
    "        self.weights = np.zeros(no_of_inputs + 1)\n",
    "           \n",
    "    def predict(self, inputs):\n",
    "        summation = np.dot(inputs, self.weights[1:]) + self.weights[0]\n",
    "        if summation > 0:\n",
    "          activation = 1\n",
    "        else:\n",
    "          activation = 0            \n",
    "        return activation\n",
    "\n",
    "    def train(self, training_inputs, labels):\n",
    "        for _ in range(self.epochs):\n",
    "            for inputs, label in zip(training_inputs, labels):\n",
    "                prediction = self.predict(inputs)\n",
    "                self.weights[1:] += self.learning_rate * (label - prediction) * inputs\n",
    "                self.weights[0] += self.learning_rate * (label - prediction)"
   ]
  },
  {
   "cell_type": "code",
   "execution_count": 48,
   "id": "ba1ad798-164f-48e9-91c7-bb5ceb227517",
   "metadata": {},
   "outputs": [
    {
     "name": "stdout",
     "output_type": "stream",
     "text": [
      "(63,)\n",
      "(63,)\n",
      "(63,)\n",
      "(63,)\n",
      "(63,)\n",
      "(63,)\n",
      "(63,)\n",
      "(63,)\n",
      "(63,)\n",
      "(63,)\n",
      "(63,)\n",
      "(63,)\n",
      "(63,)\n",
      "(63,)\n",
      "(63,)\n",
      "(63,)\n",
      "(63,)\n",
      "(63,)\n",
      "(63,)\n",
      "(63,)\n",
      "(63,)\n"
     ]
    }
   ],
   "source": [
    "import numpy as np\n",
    "training_inputs = []\n",
    "training_inputs.append(np.array(input1A) - 1)\n",
    "training_inputs.append(np.array(input2A) - 1)\n",
    "training_inputs.append(np.array(input3A) - 1)\n",
    "training_inputs.append(np.array(input1B) - 1)\n",
    "training_inputs.append(np.array(input2B) - 1)\n",
    "training_inputs.append(np.array(input3B) - 1)\n",
    "training_inputs.append(np.array(input1C) - 1)\n",
    "training_inputs.append(np.array(input2C) - 1)\n",
    "training_inputs.append(np.array(input3C) - 1)\n",
    "training_inputs.append(np.array(input1D) - 1)\n",
    "training_inputs.append(np.array(input2D) - 1)\n",
    "training_inputs.append(np.array(input3D) - 1)\n",
    "training_inputs.append(np.array(input1E) - 1)\n",
    "training_inputs.append(np.array(input2E) - 1)\n",
    "training_inputs.append(np.array(input3E) - 1)\n",
    "training_inputs.append(np.array(input1J) - 1)\n",
    "training_inputs.append(np.array(input2J) - 1)\n",
    "training_inputs.append(np.array(input3J) - 1)\n",
    "training_inputs.append(np.array(input1K) - 1)\n",
    "training_inputs.append(np.array(input2K) - 1)\n",
    "training_inputs.append(np.array(input3K) - 1)\n",
    "for i in training_inputs:\n",
    "    print (i.shape)\n",
    "\n",
    "labels = [0,0,0,0,0,0,0,0,0,1,1,1,0,0,0,0,0,0,0,0,0]"
   ]
  },
  {
   "cell_type": "code",
   "execution_count": 49,
   "id": "448d68bc-ce60-4ad2-bade-b74cbea4b425",
   "metadata": {},
   "outputs": [],
   "source": [
    "perceptron = Perceptron(63)\n",
    "perceptron.train(training_inputs, labels)"
   ]
  },
  {
   "cell_type": "code",
   "execution_count": 52,
   "id": "ece32289-5d26-4f37-a29f-544c741e11ee",
   "metadata": {},
   "outputs": [
    {
     "data": {
      "text/plain": [
       "1"
      ]
     },
     "execution_count": 52,
     "metadata": {},
     "output_type": "execute_result"
    }
   ],
   "source": [
    "test1 = np.array(\n",
    "          [2,2,2,2,2,0,0,\n",
    "           2,0,0,0,0,2,0,\n",
    "           2,0,0,0,0,0,0,\n",
    "           2,0,0,2,0,0,2,\n",
    "           0,0,2,0,0,0,2,\n",
    "           2,0,0,0,2,0,2,\n",
    "           2,0,2,0,0,0,2,\n",
    "           2,0,0,0,0,2,0,\n",
    "           2,2,2,2,2,0,0,\n",
    "          ]) - 1\n",
    "\n",
    "perceptron.predict(test1)"
   ]
  },
  {
   "cell_type": "code",
   "execution_count": 53,
   "id": "359ad21d-4dfd-4e10-8dbb-6f43183dc197",
   "metadata": {},
   "outputs": [
    {
     "data": {
      "text/plain": [
       "0"
      ]
     },
     "execution_count": 53,
     "metadata": {},
     "output_type": "execute_result"
    }
   ],
   "source": [
    "test2 = np.array(\n",
    "          [0,0,0,0,2,2,2,\n",
    "           0,0,0,0,0,2,0,\n",
    "           0,0,0,0,0,2,0,\n",
    "           0,0,0,0,0,2,0,\n",
    "           0,0,0,0,0,2,0,\n",
    "           0,0,0,0,0,2,0,\n",
    "           0,0,0,0,0,2,0,\n",
    "           0,2,0,0,0,2,0,\n",
    "           0,0,2,2,2,0,0,\n",
    "          ]) - 1\n",
    "\n",
    "perceptron.predict(test2)"
   ]
  },
  {
   "cell_type": "code",
   "execution_count": 55,
   "id": "1affc537-a5bd-4533-8d14-7252cd6c9f4f",
   "metadata": {},
   "outputs": [
    {
     "data": {
      "text/plain": [
       "0"
      ]
     },
     "execution_count": 55,
     "metadata": {},
     "output_type": "execute_result"
    }
   ],
   "source": [
    "test12 = np.array(\n",
    "          [0,0,0,0,0,2,0,\n",
    "           0,0,0,0,0,2,0,\n",
    "           0,0,0,0,0,2,0,\n",
    "           0,0,0,0,0,2,0,\n",
    "           0,0,0,0,0,2,0,\n",
    "           0,0,2,2,2,2,0,\n",
    "           0,0,2,0,0,2,0,\n",
    "           0,0,2,0,0,2,0,\n",
    "           0,0,2,2,2,2,2,\n",
    "          ]) - 1\n",
    "\n",
    "perceptron.predict(test12)"
   ]
  },
  {
   "cell_type": "code",
   "execution_count": 34,
   "id": "066ae17f-01ff-43d5-a130-7a8e3126bf67",
   "metadata": {},
   "outputs": [],
   "source": [
    "class AdalineGD(object):\n",
    "\n",
    "    def __init__(self, eta=0.01, epochs=50):\n",
    "        self.eta = eta\n",
    "        self.epochs = epochs\n",
    "\n",
    "    def train(self, X, y):\n",
    "\n",
    "        self.w_ = np.zeros(1 + X.shape[1])\n",
    "        self.cost_ = []\n",
    "\n",
    "        for i in range(self.epochs):\n",
    "            output = self.net_input(X)\n",
    "            errors = (y - output)\n",
    "            self.w_[1:] += self.eta * X.T.dot(errors)\n",
    "            self.w_[0] += self.eta * errors.sum()\n",
    "            cost = (errors**2).sum() / 2.0\n",
    "            self.cost_.append(cost)\n",
    "        return self\n",
    "\n",
    "    def net_input(self, X):\n",
    "        return np.dot(X, self.w_[1:]) + self.w_[0]\n",
    "\n",
    "    def activation(self, X):\n",
    "        return self.net_input(X)\n",
    "\n",
    "    def predict(self, X):\n",
    "        return np.where(self.activation(X) >= 0.0, 1, -1)"
   ]
  },
  {
   "cell_type": "code",
   "execution_count": 35,
   "id": "7a858549-5c63-49e2-b103-0d3ef1a36887",
   "metadata": {},
   "outputs": [],
   "source": [
    "%matplotlib inline\n",
    "import matplotlib.pyplot as plt\n",
    "\n",
    "from mlxtend.plotting import plot_decision_regions\n",
    "\n",
    "ada = AdalineGD(epochs=1000, eta=0.0001).train(np.array(training_inputs), labels)\n"
   ]
  },
  {
   "cell_type": "code",
   "execution_count": 56,
   "id": "b850e0c1-93f2-4a0b-ba92-7272310be790",
   "metadata": {},
   "outputs": [
    {
     "data": {
      "text/plain": [
       "1"
      ]
     },
     "execution_count": 56,
     "metadata": {},
     "output_type": "execute_result"
    }
   ],
   "source": [
    "test3 = np.array(\n",
    "          [2,2,2,2,2,0,0,\n",
    "           2,0,0,0,0,2,0,\n",
    "           2,0,0,0,0,0,0,\n",
    "           2,0,0,2,0,0,2,\n",
    "           0,0,2,0,0,0,2,\n",
    "           2,0,0,0,2,0,0,\n",
    "           2,0,2,0,0,0,2,\n",
    "           2,0,0,0,0,2,0,\n",
    "           2,2,2,2,2,0,0,\n",
    "          ]) - 1\n",
    "ada.predict(test3)"
   ]
  },
  {
   "cell_type": "code",
   "execution_count": 37,
   "id": "56e14ae3-52c5-4abd-8e95-27ae8a6cc2fe",
   "metadata": {},
   "outputs": [
    {
     "data": {
      "text/plain": [
       "array(1)"
      ]
     },
     "execution_count": 37,
     "metadata": {},
     "output_type": "execute_result"
    }
   ],
   "source": [
    "test4 = np.array(\n",
    "          [2,2,2,0,2,0,0,\n",
    "           2,0,0,0,0,2,0,\n",
    "           2,0,0,0,0,0,0,\n",
    "           2,0,0,2,0,0,2,\n",
    "           0,0,2,0,0,0,2,\n",
    "           2,0,0,0,2,0,0,\n",
    "           2,0,2,0,0,0,2,\n",
    "           2,0,0,0,0,2,0,\n",
    "           2,0,2,0,2,0,0,\n",
    "          ]) - 1\n",
    "ada.predict(test4)"
   ]
  },
  {
   "cell_type": "code",
   "execution_count": 38,
   "id": "3a0aa62b-3bd6-4715-937b-402d1e3bf2a2",
   "metadata": {},
   "outputs": [
    {
     "data": {
      "text/plain": [
       "array(1)"
      ]
     },
     "execution_count": 38,
     "metadata": {},
     "output_type": "execute_result"
    }
   ],
   "source": [
    "test5 = np.array(\n",
    "          [2,2,2,0,2,0,0,\n",
    "           2,0,0,0,0,2,0,\n",
    "           2,0,0,0,0,0,0,\n",
    "           2,0,0,2,0,0,2,\n",
    "           0,0,2,0,0,0,0,\n",
    "           2,0,0,0,2,0,0,\n",
    "           2,0,2,0,0,0,2,\n",
    "           0,0,0,0,0,2,0,\n",
    "           0,0,2,0,2,0,0,\n",
    "          ]) - 1\n",
    "ada.predict(test5)"
   ]
  },
  {
   "cell_type": "code",
   "execution_count": 39,
   "id": "9d814a12-abe8-467d-8dd8-02cfefb3bc93",
   "metadata": {},
   "outputs": [
    {
     "data": {
      "text/plain": [
       "array(1)"
      ]
     },
     "execution_count": 39,
     "metadata": {},
     "output_type": "execute_result"
    }
   ],
   "source": [
    "test6 = np.array(\n",
    "          [0,2,0,0,2,0,0,\n",
    "           2,0,0,0,0,2,0,\n",
    "           0,0,0,0,0,0,0,\n",
    "           2,0,0,2,0,0,2,\n",
    "           0,0,2,0,0,0,0,\n",
    "           2,0,0,0,2,0,0,\n",
    "           2,0,2,0,0,0,2,\n",
    "           0,0,0,0,0,2,0,\n",
    "           0,0,2,0,2,0,0,\n",
    "          ]) - 1\n",
    "ada.predict(test6)"
   ]
  },
  {
   "cell_type": "code",
   "execution_count": 40,
   "id": "2cef4362-2d82-42f6-84a0-f86f8d3c4812",
   "metadata": {},
   "outputs": [
    {
     "data": {
      "text/plain": [
       "array(1)"
      ]
     },
     "execution_count": 40,
     "metadata": {},
     "output_type": "execute_result"
    }
   ],
   "source": [
    "test7 = np.array(\n",
    "          [0,2,0,0,2,0,0,\n",
    "           2,0,0,2,0,2,0,\n",
    "           0,0,0,0,0,0,0,\n",
    "           2,0,0,2,0,0,2,\n",
    "           0,0,2,0,0,0,0,\n",
    "           0,0,0,0,2,0,0,\n",
    "           2,0,2,0,0,0,2,\n",
    "           0,0,0,0,0,2,0,\n",
    "           0,0,2,0,2,0,0,\n",
    "          ]) - 1\n",
    "ada.predict(test7)"
   ]
  },
  {
   "cell_type": "code",
   "execution_count": 41,
   "id": "890fb5ed-8c9a-421c-befd-390f7b2e53e4",
   "metadata": {},
   "outputs": [
    {
     "data": {
      "text/plain": [
       "array(1)"
      ]
     },
     "execution_count": 41,
     "metadata": {},
     "output_type": "execute_result"
    }
   ],
   "source": [
    "test8 = np.array(\n",
    "          [0,2,0,0,2,0,0,\n",
    "           2,0,0,2,2,2,0,\n",
    "           0,0,0,0,0,2,0,\n",
    "           2,0,0,2,0,0,2,\n",
    "           0,0,2,0,0,2,0,\n",
    "           0,0,0,0,2,0,0,\n",
    "           2,0,2,0,0,0,2,\n",
    "           0,0,0,0,0,2,0,\n",
    "           0,0,2,0,2,0,0,\n",
    "          ]) - 1\n",
    "ada.predict(test8)"
   ]
  },
  {
   "cell_type": "code",
   "execution_count": 42,
   "id": "dfab9931-7076-4266-9f42-36fbe58d1dc4",
   "metadata": {},
   "outputs": [
    {
     "data": {
      "text/plain": [
       "array(-1)"
      ]
     },
     "execution_count": 42,
     "metadata": {},
     "output_type": "execute_result"
    }
   ],
   "source": [
    "test9 = np.array(\n",
    "          [0,2,0,0,2,0,0,\n",
    "           2,0,0,2,2,2,0,\n",
    "           0,0,0,2,0,2,0,\n",
    "           2,0,0,2,0,0,2,\n",
    "           0,0,2,0,0,2,0,\n",
    "           0,0,0,2,2,0,0,\n",
    "           2,0,2,0,2,0,2,\n",
    "           0,0,0,0,0,2,0,\n",
    "           0,0,2,0,2,0,2,\n",
    "          ]) - 1\n",
    "ada.predict(test9)"
   ]
  },
  {
   "cell_type": "code",
   "execution_count": 43,
   "id": "11d53c44-0c7e-4fd5-9f8f-57e063fc2a1f",
   "metadata": {},
   "outputs": [
    {
     "data": {
      "text/plain": [
       "array(-1)"
      ]
     },
     "execution_count": 43,
     "metadata": {},
     "output_type": "execute_result"
    }
   ],
   "source": [
    "test10 = np.array(\n",
    "          [0,2,0,0,2,0,2,\n",
    "           2,0,0,2,2,2,0,\n",
    "           0,0,0,2,2,2,0,\n",
    "           2,0,0,2,0,0,2,\n",
    "           0,2,2,0,0,2,0,\n",
    "           0,0,0,2,2,0,0,\n",
    "           2,0,2,0,2,0,2,\n",
    "           0,0,0,0,0,2,0,\n",
    "           0,0,2,0,2,0,2,\n",
    "          ]) - 1\n",
    "ada.predict(test10)"
   ]
  },
  {
   "cell_type": "code",
   "execution_count": 44,
   "id": "53e07e44-fda9-4f84-8e69-3b26f5c1e9b6",
   "metadata": {},
   "outputs": [
    {
     "data": {
      "text/plain": [
       "array(-1)"
      ]
     },
     "execution_count": 44,
     "metadata": {},
     "output_type": "execute_result"
    }
   ],
   "source": [
    "test11 = np.array(\n",
    "          [2,2,2,0,0,2,2,\n",
    "           0,2,0,0,0,2,0,\n",
    "           0,2,0,0,2,0,0,\n",
    "           0,2,0,2,0,0,0,\n",
    "           0,2,2,0,0,0,0,\n",
    "           0,2,0,2,0,0,0,\n",
    "           0,2,0,0,2,0,0,\n",
    "           0,2,0,0,0,2,0,\n",
    "           2,2,2,0,0,2,2,\n",
    "          ]) - 1\n",
    "ada.predict(test11)"
   ]
  },
  {
   "cell_type": "code",
   "execution_count": 45,
   "id": "55deb960-d44c-4777-a796-6d4e2bd7a17f",
   "metadata": {},
   "outputs": [
    {
     "data": {
      "text/plain": [
       "array(-1)"
      ]
     },
     "execution_count": 45,
     "metadata": {},
     "output_type": "execute_result"
    }
   ],
   "source": [
    "ada.predict(test2)"
   ]
  },
  {
   "cell_type": "code",
   "execution_count": 46,
   "id": "dce24ba7-a057-4998-8588-42da85eb2cc3",
   "metadata": {},
   "outputs": [
    {
     "data": {
      "text/plain": [
       "0"
      ]
     },
     "execution_count": 46,
     "metadata": {},
     "output_type": "execute_result"
    }
   ],
   "source": [
    "perceptron.predict(test11)"
   ]
  },
  {
   "cell_type": "code",
   "execution_count": null,
   "id": "ae6aa5e0-dd7d-4d9e-92d2-83de13c2892e",
   "metadata": {},
   "outputs": [],
   "source": []
  },
  {
   "cell_type": "code",
   "execution_count": null,
   "id": "86d1b324-61d7-4550-b74d-d845069d2b8b",
   "metadata": {},
   "outputs": [],
   "source": []
  }
 ],
 "metadata": {
  "kernelspec": {
   "display_name": "Python 3 (ipykernel)",
   "language": "python",
   "name": "python3"
  },
  "language_info": {
   "codemirror_mode": {
    "name": "ipython",
    "version": 3
   },
   "file_extension": ".py",
   "mimetype": "text/x-python",
   "name": "python",
   "nbconvert_exporter": "python",
   "pygments_lexer": "ipython3",
   "version": "3.10.0"
  }
 },
 "nbformat": 4,
 "nbformat_minor": 5
}
