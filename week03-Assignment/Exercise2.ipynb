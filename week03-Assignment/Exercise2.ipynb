{
 "cells": [
  {
   "cell_type": "code",
   "execution_count": 1,
   "id": "d6ad2476-c4de-4e35-9932-d8fe7efcf3b2",
   "metadata": {
    "ExecuteTime": {
     "end_time": "2024-02-07T05:14:24.384144800Z",
     "start_time": "2024-02-07T05:14:24.369184600Z"
    }
   },
   "outputs": [],
   "source": [
    "#### Miscellaneous functions\n",
    "def sigmoid(z):\n",
    "    \"\"\"The sigmoid function.\"\"\"\n",
    "    return 1.0/(1.0+np.exp(-z))\n",
    "\n",
    "def sigmoid_prime(z):\n",
    "    \"\"\"Derivative of the sigmoid function.\"\"\"\n",
    "    return sigmoid(z)*(1-sigmoid(z))"
   ]
  },
  {
   "cell_type": "code",
   "execution_count": 2,
   "id": "1cc488b1-cbd6-4828-9551-a05b955cd15e",
   "metadata": {
    "ExecuteTime": {
     "end_time": "2024-02-07T05:14:25.790887100Z",
     "start_time": "2024-02-07T05:14:25.617269500Z"
    }
   },
   "outputs": [],
   "source": [
    "#### Libraries\n",
    "# Standard library\n",
    "import random\n",
    "\n",
    "# Third-party libraries\n",
    "import numpy as np\n",
    "\n",
    "class Network(object):\n",
    "\n",
    "    def __init__(self, sizes):\n",
    "        \"\"\"The list ``sizes`` contains the number of neurons in the\n",
    "        respective layers of the network.  For example, if the list\n",
    "        was [2, 3, 1] then it would be a three-layer network, with the\n",
    "        first layer containing 2 neurons, the second layer 3 neurons,\n",
    "        and the third layer 1 neuron.  The biases and weights for the\n",
    "        network are initialized randomly, using a Gaussian\n",
    "        distribution with mean 0, and variance 1.  Note that the first\n",
    "        layer is assumed to be an input layer, and by convention we\n",
    "        won't set any biases for those neurons, since biases are only\n",
    "        ever used in computing the outputs from later layers.\"\"\"\n",
    "        self.num_layers = len(sizes)\n",
    "        self.sizes = sizes\n",
    "        self.biases = [np.random.randn(y, 1) for y in sizes[1:]]\n",
    "        self.weights = [np.random.randn(y, x)\n",
    "                        for x, y in zip(sizes[:-1], sizes[1:])]\n",
    "\n",
    "    def feedforward(self, a):\n",
    "        \"\"\"Return the output of the network if ``a`` is input.\"\"\"\n",
    "        for b, w in zip(self.biases, self.weights):\n",
    "            a = sigmoid(np.dot(w, a)+b)\n",
    "        return a\n",
    "\n",
    "    def SGD(self, training_data, epochs, mini_batch_size, eta,\n",
    "            test_data=None):\n",
    "        \"\"\"Train the neural network using mini-batch stochastic\n",
    "        gradient descent.  The ``training_data`` is a list of tuples\n",
    "        ``(x, y)`` representing the training inputs and the desired\n",
    "        outputs.  The other non-optional parameters are\n",
    "        self-explanatory.  If ``test_data`` is provided then the\n",
    "        network will be evaluated against the test data after each\n",
    "        epoch, and partial progress printed out.  This is useful for\n",
    "        tracking progress, but slows things down substantially.\"\"\"\n",
    "\n",
    "        training_data = list(training_data)\n",
    "        n = len(X)\n",
    "\n",
    "        if test_data:\n",
    "            test_data = list(test_data)\n",
    "            n_test = len(test_data)\n",
    "\n",
    "        for j in range(epochs):\n",
    "            random.shuffle(training_data)\n",
    "            mini_batches = [\n",
    "                training_data[k:k+mini_batch_size]\n",
    "                for k in range(0, n, mini_batch_size)\n",
    "            ]\n",
    "            for mini_batch in mini_batches:\n",
    "                self.update_mini_batch(mini_batch, eta)\n",
    "            if test_data:\n",
    "                print(\"Epoch {} : {} / {}\".format(j,self.evaluate(test_data),n_test));\n",
    "            else:\n",
    "                print(\"Epoch {} complete\".format(j))\n",
    "\n",
    "    def update_mini_batch(self, mini_batch, eta):\n",
    "        \"\"\"Update the network's weights and biases by applying\n",
    "        gradient descent using backpropagation to a single mini batch.\n",
    "        The ``mini_batch`` is a list of tuples ``(x, y)``, and ``eta``\n",
    "        is the learning rate.\"\"\"\n",
    "        nabla_b = [np.zeros(b.shape) for b in self.biases]\n",
    "        nabla_w = [np.zeros(w.shape) for w in self.weights]\n",
    "        for x, y in mini_batch:\n",
    "            delta_nabla_b, delta_nabla_w = self.backprop(x, y)\n",
    "            nabla_b = [nb+dnb for nb, dnb in zip(nabla_b, delta_nabla_b)]\n",
    "            nabla_w = [nw+dnw for nw, dnw in zip(nabla_w, delta_nabla_w)]\n",
    "        self.weights = [w-(eta/len(mini_batch))*nw\n",
    "                        for w, nw in zip(self.weights, nabla_w)]\n",
    "        self.biases = [b-(eta/len(mini_batch))*nb\n",
    "                       for b, nb in zip(self.biases, nabla_b)]\n",
    "\n",
    "    def backprop(self, x, y):\n",
    "        \"\"\"Return a tuple ``(nabla_b, nabla_w)`` representing the\n",
    "        gradient for the cost function C_x.  ``nabla_b`` and\n",
    "        ``nabla_w`` are layer-by-layer lists of numpy arrays, similar\n",
    "        to ``self.biases`` and ``self.weights``.\"\"\"\n",
    "        nabla_b = [np.zeros(b.shape) for b in self.biases]\n",
    "        nabla_w = [np.zeros(w.shape) for w in self.weights]\n",
    "        # feedforward\n",
    "        activation = x\n",
    "        activations = [x] # list to store all the activations, layer by layer\n",
    "        zs = [] # list to store all the z vectors, layer by layer\n",
    "        for b, w in zip(self.biases, self.weights):\n",
    "            z = np.dot(w, activation)+b\n",
    "            zs.append(z)\n",
    "            activation = sigmoid(z)\n",
    "            activations.append(activation)\n",
    "        # backward pass\n",
    "        delta = self.cost_derivative(activations[-1], y) * \\\n",
    "            sigmoid_prime(zs[-1])\n",
    "        nabla_b[-1] = delta\n",
    "        nabla_w[-1] = np.dot(delta, activations[-2].transpose())\n",
    "        # Note that the variable l in the loop below is used a little\n",
    "        # differently to the notation in Chapter 2 of the book.  Here,\n",
    "        # l = 1 means the last layer of neurons, l = 2 is the\n",
    "        # second-last layer, and so on.  It's a renumbering of the\n",
    "        # scheme in the book, used here to take advantage of the fact\n",
    "        # that Python can use negative indices in lists.\n",
    "        for l in range(2, self.num_layers):\n",
    "            z = zs[-l]\n",
    "            sp = sigmoid_prime(z)\n",
    "            delta = np.dot(self.weights[-l+1].transpose(), delta) * sp\n",
    "            nabla_b[-l] = delta\n",
    "            nabla_w[-l] = np.dot(delta, activations[-l-1].transpose())\n",
    "        return (nabla_b, nabla_w)\n",
    "\n",
    "    def evaluate(self, test_data):\n",
    "        \"\"\"Return the number of test inputs for which the neural\n",
    "        network outputs the correct result. Note that the neural\n",
    "        network's output is assumed to be the index of whichever\n",
    "        neuron in the final layer has the highest activation.\"\"\"\n",
    "        test_results = [(np.argmax(self.feedforward(x)), y)\n",
    "                        for (x, y) in test_data]\n",
    "        return sum(int(x == y) for (x, y) in test_results)\n",
    "\n",
    "    def cost_derivative(self, output_activations, y):\n",
    "        \"\"\"Return the vector of partial derivatives \\partial C_x /\n",
    "        \\partial a for the output activations.\"\"\"\n",
    "        return (output_activations-y)"
   ]
  },
  {
   "cell_type": "code",
   "execution_count": null,
   "id": "a5ee94c9-5b4a-4d22-bfa7-126aaa070726",
   "metadata": {
    "ExecuteTime": {
     "end_time": "2024-02-07T05:14:26.653805800Z",
     "start_time": "2024-02-07T05:14:26.645827800Z"
    }
   },
   "outputs": [],
   "source": []
  },
  {
   "cell_type": "code",
   "execution_count": 28,
   "id": "1fa16b14-1bcd-4262-8ee5-c4994fec9a8b",
   "metadata": {
    "ExecuteTime": {
     "end_time": "2024-02-07T05:14:28.307864400Z",
     "start_time": "2024-02-07T05:14:27.010687400Z"
    }
   },
   "outputs": [
    {
     "name": "stdout",
     "output_type": "stream",
     "text": [
      "{'uci_id': 46, 'name': 'Hepatitis', 'repository_url': 'https://archive.ics.uci.edu/dataset/46/hepatitis', 'data_url': 'https://archive.ics.uci.edu/static/public/46/data.csv', 'abstract': 'From G.Gong: CMU; Mostly Boolean or numeric-valued attribute types; Includes cost data (donated by Peter Turney)', 'area': 'Health and Medicine', 'tasks': ['Classification'], 'characteristics': ['Multivariate'], 'num_instances': 155, 'num_features': 19, 'feature_types': ['Categorical', 'Integer', 'Real'], 'demographics': [], 'target_col': ['Class'], 'index_col': None, 'has_missing_values': 'yes', 'missing_values_symbol': 'NaN', 'year_of_dataset_creation': 1983, 'last_updated': 'Fri Nov 03 2023', 'dataset_doi': '10.24432/C5Q59J', 'creators': [], 'intro_paper': None, 'additional_info': {'summary': 'Please ask Gail Gong for further information on this database.', 'purpose': None, 'funded_by': None, 'instances_represent': None, 'recommended_data_splits': None, 'sensitive_data': None, 'preprocessing_description': None, 'variable_info': '     1. Class: DIE, LIVE\\r\\n     2. AGE: 10, 20, 30, 40, 50, 60, 70, 80\\r\\n     3. SEX: male, female\\r\\n     4. STEROID: no, yes\\r\\n     5. ANTIVIRALS: no, yes\\r\\n     6. FATIGUE: no, yes\\r\\n     7. MALAISE: no, yes\\r\\n     8. ANOREXIA: no, yes\\r\\n     9. LIVER BIG: no, yes\\r\\n    10. LIVER FIRM: no, yes\\r\\n    11. SPLEEN PALPABLE: no, yes\\r\\n    12. SPIDERS: no, yes\\r\\n    13. ASCITES: no, yes\\r\\n    14. VARICES: no, yes\\r\\n    15. BILIRUBIN: 0.39, 0.80, 1.20, 2.00, 3.00, 4.00\\r\\n        -- see the note below\\r\\n    16. ALK PHOSPHATE: 33, 80, 120, 160, 200, 250\\r\\n    17. SGOT: 13, 100, 200, 300, 400, 500, \\r\\n    18. ALBUMIN: 2.1, 3.0, 3.8, 4.5, 5.0, 6.0\\r\\n    19. PROTIME: 10, 20, 30, 40, 50, 60, 70, 80, 90\\r\\n    20. HISTOLOGY: no, yes\\r\\n\\r\\nThe BILIRUBIN attribute appears to be continuously-valued.  I checked this with the donater, Bojan Cestnik, who replied:\\r\\n\\r\\n About the hepatitis database and BILIRUBIN problem I would like to say the following: BILIRUBIN is continuous attribute (= the number of it\\'s \"values\" in the ASDOHEPA.DAT file is negative!!!); \"values\" are quoted because when speaking about the continuous attribute there is no such thing as all possible values. However, they represent so called \"boundary\" values; according to these \"boundary\" values the attribute can be discretized. At the same time, because of the continious attribute, one can perform some other test since the continuous information is preserved. I hope that these lines have at least roughly answered your question. ', 'citation': None}}\n",
      "               name     role         type demographic description units  \\\n",
      "0             Class   Target  Categorical        None        None  None   \n",
      "1               Age  Feature      Integer        None        None  None   \n",
      "2               Sex  Feature  Categorical        None        None  None   \n",
      "3           Steroid  Feature  Categorical        None        None  None   \n",
      "4        Antivirals  Feature  Categorical        None        None  None   \n",
      "5           Fatigue  Feature  Categorical        None        None  None   \n",
      "6           Malaise  Feature  Categorical        None        None  None   \n",
      "7          Anorexia  Feature  Categorical        None        None  None   \n",
      "8         Liver Big  Feature  Categorical        None        None  None   \n",
      "9        Liver Firm  Feature  Categorical        None        None  None   \n",
      "10  Spleen Palpable  Feature  Categorical        None        None  None   \n",
      "11          Spiders  Feature  Categorical        None        None  None   \n",
      "12          Ascites  Feature  Categorical        None        None  None   \n",
      "13          Varices  Feature  Categorical        None        None  None   \n",
      "14        Bilirubin  Feature   Continuous        None        None  None   \n",
      "15    Alk Phosphate  Feature      Integer        None        None  None   \n",
      "16             Sgot  Feature      Integer        None        None  None   \n",
      "17          Albumin  Feature      Integer        None        None  None   \n",
      "18          Protime  Feature      Integer        None        None  None   \n",
      "19        Histology  Feature      Integer        None        None  None   \n",
      "\n",
      "   missing_values  \n",
      "0              no  \n",
      "1              no  \n",
      "2              no  \n",
      "3             yes  \n",
      "4              no  \n",
      "5             yes  \n",
      "6             yes  \n",
      "7             yes  \n",
      "8             yes  \n",
      "9             yes  \n",
      "10            yes  \n",
      "11            yes  \n",
      "12            yes  \n",
      "13            yes  \n",
      "14            yes  \n",
      "15            yes  \n",
      "16            yes  \n",
      "17            yes  \n",
      "18            yes  \n",
      "19             no  \n"
     ]
    }
   ],
   "source": [
    "from ucimlrepo import fetch_ucirepo \n",
    "  \n",
    "# fetch dataset \n",
    "hepatitis = fetch_ucirepo(id=46) \n",
    "  \n",
    "# data (as pandas dataframes) \n",
    "X = hepatitis.data.features \n",
    "y = hepatitis.data.targets \n",
    "  \n",
    "# metadata \n",
    "print(hepatitis.metadata) \n",
    "  \n",
    "# variable information \n",
    "print(hepatitis.variables) "
   ]
  },
  {
   "cell_type": "code",
   "execution_count": 29,
   "id": "82a4f039-d0b9-4220-b4d3-3a12608d0771",
   "metadata": {
    "ExecuteTime": {
     "end_time": "2024-02-07T05:14:29.042088900Z",
     "start_time": "2024-02-07T05:14:28.988043400Z"
    }
   },
   "outputs": [],
   "source": [
    "X = X.fillna(X.median())"
   ]
  },
  {
   "cell_type": "code",
   "execution_count": 30,
   "id": "61bd88e3-28c9-4fde-bc3c-69bdf83aeeeb",
   "metadata": {
    "ExecuteTime": {
     "end_time": "2024-02-07T05:14:32.632698200Z",
     "start_time": "2024-02-07T05:14:32.557245100Z"
    },
    "scrolled": true
   },
   "outputs": [
    {
     "data": {
      "text/plain": [
       "[(array([[52. ],\n",
       "         [ 1. ],\n",
       "         [ 1. ],\n",
       "         [ 1. ],\n",
       "         [ 2. ],\n",
       "         [ 2. ],\n",
       "         [ 2. ],\n",
       "         [ 2. ],\n",
       "         [ 2. ],\n",
       "         [ 2. ],\n",
       "         [ 2. ],\n",
       "         [ 2. ],\n",
       "         [ 2. ],\n",
       "         [ 0.7],\n",
       "         [75. ],\n",
       "         [55. ],\n",
       "         [ 4. ],\n",
       "         [21. ],\n",
       "         [ 1. ]]),\n",
       "  array([2.])),\n",
       " (array([[34.],\n",
       "         [ 1.],\n",
       "         [ 2.],\n",
       "         [ 2.],\n",
       "         [ 2.],\n",
       "         [ 2.],\n",
       "         [ 2.],\n",
       "         [ 2.],\n",
       "         [ 2.],\n",
       "         [ 2.],\n",
       "         [ 2.],\n",
       "         [ 2.],\n",
       "         [ 2.],\n",
       "         [ 1.],\n",
       "         [85.],\n",
       "         [86.],\n",
       "         [ 4.],\n",
       "         [61.],\n",
       "         [ 1.]]),\n",
       "  array([2.])),\n",
       " (array([[51. ],\n",
       "         [ 1. ],\n",
       "         [ 2. ],\n",
       "         [ 2. ],\n",
       "         [ 2. ],\n",
       "         [ 2. ],\n",
       "         [ 2. ],\n",
       "         [ 1. ],\n",
       "         [ 1. ],\n",
       "         [ 2. ],\n",
       "         [ 1. ],\n",
       "         [ 2. ],\n",
       "         [ 2. ],\n",
       "         [ 0.8],\n",
       "         [85. ],\n",
       "         [33. ],\n",
       "         [ 4.5],\n",
       "         [61. ],\n",
       "         [ 2. ]]),\n",
       "  array([2.]))]"
      ]
     },
     "execution_count": 30,
     "metadata": {},
     "output_type": "execute_result"
    }
   ],
   "source": [
    "training_data = X.copy()\n",
    "training_data['Class'] = y.values\n",
    "training_data = [(np.array(training[0:19]).reshape(19,1), np.array([training[19]])) for training in training_data.to_numpy()]\n",
    "testing_data_index = sorted(random.sample(range(len(training_data)), 3))\n",
    "testing_data = []\n",
    "for i, training_dataset_index in enumerate(testing_data_index):\n",
    "    testing_data.append(training_data[training_dataset_index])\n",
    "    training_data.pop(training_dataset_index - i)\n",
    "training_dataset_index = []\n",
    "testing_data"
   ]
  },
  {
   "cell_type": "code",
   "execution_count": 31,
   "id": "821d8472-aca9-4c3f-8abe-8b4720cb9191",
   "metadata": {
    "ExecuteTime": {
     "end_time": "2024-02-07T05:14:34.055634600Z",
     "start_time": "2024-02-07T05:14:33.707960900Z"
    }
   },
   "outputs": [
    {
     "name": "stderr",
     "output_type": "stream",
     "text": [
      "C:\\Users\\301212298\\AppData\\Local\\Temp\\ipykernel_11576\\1391037560.py:4: RuntimeWarning: overflow encountered in exp\n",
      "  return 1.0/(1.0+np.exp(-z))\n",
      "C:\\Users\\301212298\\AppData\\Local\\Temp\\ipykernel_11576\\549624836.py:122: DeprecationWarning: Conversion of an array with ndim > 0 to a scalar is deprecated, and will error in future. Ensure you extract a single element from your array before performing this operation. (Deprecated NumPy 1.25.)\n",
      "  return sum(int(x == y) for (x, y) in test_results)\n"
     ]
    },
    {
     "name": "stdout",
     "output_type": "stream",
     "text": [
      "Epoch 0 : 0 / 3\n",
      "Epoch 1 : 0 / 3\n",
      "Epoch 2 : 0 / 3\n",
      "Epoch 3 : 0 / 3\n",
      "Epoch 4 : 0 / 3\n",
      "Epoch 5 : 0 / 3\n",
      "Epoch 6 : 0 / 3\n",
      "Epoch 7 : 0 / 3\n",
      "Epoch 8 : 0 / 3\n",
      "Epoch 9 : 0 / 3\n",
      "Epoch 10 : 0 / 3\n",
      "Epoch 11 : 0 / 3\n",
      "Epoch 12 : 0 / 3\n",
      "Epoch 13 : 0 / 3\n",
      "Epoch 14 : 0 / 3\n",
      "Epoch 15 : 0 / 3\n",
      "Epoch 16 : 0 / 3\n",
      "Epoch 17 : 0 / 3\n",
      "Epoch 18 : 0 / 3\n",
      "Epoch 19 : 0 / 3\n",
      "Epoch 20 : 0 / 3\n",
      "Epoch 21 : 0 / 3\n",
      "Epoch 22 : 0 / 3\n",
      "Epoch 23 : 0 / 3\n",
      "Epoch 24 : 0 / 3\n",
      "Epoch 25 : 0 / 3\n",
      "Epoch 26 : 0 / 3\n",
      "Epoch 27 : 0 / 3\n",
      "Epoch 28 : 0 / 3\n",
      "Epoch 29 : 0 / 3\n"
     ]
    }
   ],
   "source": [
    "net = Network([19, 32, 16, 2])\n",
    "net.SGD(training_data, 30, 10, 3.0, test_data=testing_data)"
   ]
  },
  {
   "cell_type": "code",
   "execution_count": null,
   "id": "b59085f2-3e3a-4ab1-b059-f7277f5e292d",
   "metadata": {},
   "outputs": [],
   "source": []
  }
 ],
 "metadata": {
  "kernelspec": {
   "display_name": "Python 3 (ipykernel)",
   "language": "python",
   "name": "python3"
  },
  "language_info": {
   "codemirror_mode": {
    "name": "ipython",
    "version": 3
   },
   "file_extension": ".py",
   "mimetype": "text/x-python",
   "name": "python",
   "nbconvert_exporter": "python",
   "pygments_lexer": "ipython3",
   "version": "3.10.0"
  }
 },
 "nbformat": 4,
 "nbformat_minor": 5
}
