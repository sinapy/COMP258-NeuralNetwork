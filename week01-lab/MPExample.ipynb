{
 "cells": [
  {
   "cell_type": "code",
   "execution_count": 1,
   "metadata": {},
   "outputs": [
    {
     "ename": "ModuleNotFoundError",
     "evalue": "No module named 'tensorflow'",
     "output_type": "error",
     "traceback": [
      "\u001b[1;31m---------------------------------------------------------------------------\u001b[0m",
      "\u001b[1;31mModuleNotFoundError\u001b[0m                       Traceback (most recent call last)",
      "Cell \u001b[1;32mIn[1], line 7\u001b[0m\n\u001b[0;32m      1\u001b[0m \u001b[38;5;66;03m# PacktPublishing\u001b[39;00m\n\u001b[0;32m      2\u001b[0m \u001b[38;5;66;03m# Artificial-Intelligence-By-Example-Second-Edition\u001b[39;00m\n\u001b[0;32m      3\u001b[0m \u001b[38;5;66;03m# McCulloch Pitt Neuron built with Tensorflow and represented with\u001b[39;00m\n\u001b[0;32m      4\u001b[0m \u001b[38;5;66;03m# Tensorflow 2.0.0-beta1\u001b[39;00m\n\u001b[0;32m      5\u001b[0m \u001b[38;5;66;03m# Copyright 2019 Denis Rothman MIT License. See LICENSE.\u001b[39;00m\n\u001b[1;32m----> 7\u001b[0m \u001b[38;5;28;01mimport\u001b[39;00m \u001b[38;5;21;01mtensorflow\u001b[39;00m \u001b[38;5;28;01mas\u001b[39;00m \u001b[38;5;21;01mtf\u001b[39;00m\n\u001b[0;32m      8\u001b[0m \u001b[38;5;28;01mimport\u001b[39;00m \u001b[38;5;21;01mnumpy\u001b[39;00m \u001b[38;5;28;01mas\u001b[39;00m \u001b[38;5;21;01mnp\u001b[39;00m\n\u001b[0;32m      9\u001b[0m \u001b[38;5;28;01mimport\u001b[39;00m \u001b[38;5;21;01mmath\u001b[39;00m\n",
      "\u001b[1;31mModuleNotFoundError\u001b[0m: No module named 'tensorflow'"
     ]
    }
   ],
   "source": [
    "# PacktPublishing\n",
    "# Artificial-Intelligence-By-Example-Second-Edition\n",
    "# McCulloch Pitt Neuron built with Tensorflow and represented with\n",
    "# Tensorflow 2.0.0-beta1\n",
    "# Copyright 2019 Denis Rothman MIT License. See LICENSE.\n",
    "\n",
    "import tensorflow as tf\n",
    "import numpy as np\n",
    "import math\n",
    "\n",
    "print(tf.__version__)\n",
    "\n",
    "# The variables\n",
    "x = tf.Variable([[0.0,0.0,0.0,0.0,0.0]], dtype = tf.float32)\n",
    "W = tf.Variable([[0.0],[0.0],[0.0],[0.0],[0.0]], dtype = tf.float32)\n",
    "b = tf.Variable([[0.0]])\n",
    "\n",
    "# The Neuron\n",
    "def neuron(x, W, b):\n",
    "    y1=np.multiply(x,W)+b\n",
    "    y1=np.sum(y1)\n",
    "    y = 1 / (1 + np.exp(-y1)) #logistic Sigmoid \n",
    "    return y  \n",
    "\n",
    "# The data\n",
    "x_1 = [[10, 2, 1., 6., 2.]]\n",
    "w_t = [[.1, .7, .75, .60, .20]]\n",
    "b_1 = [1.0]\n",
    "\n",
    "# Computing the value of the neuron\n",
    "value=neuron(x_1,w_t,b_1)\n",
    "\n",
    "# Availability of the location computed\n",
    "availability=1-value\n",
    "print(\"value for threshold calculation:{0:.5f}\".format(round(value,5)))\n",
    "print(\"Availability of location x     :{0:.5f}\".format(round(availability,5)))\n",
    "\n",
    "\n"
   ]
  },
  {
   "cell_type": "code",
   "execution_count": null,
   "metadata": {},
   "outputs": [],
   "source": []
  }
 ],
 "metadata": {
  "kernelspec": {
   "display_name": "Python 3 (ipykernel)",
   "language": "python",
   "name": "python3"
  },
  "language_info": {
   "codemirror_mode": {
    "name": "ipython",
    "version": 3
   },
   "file_extension": ".py",
   "mimetype": "text/x-python",
   "name": "python",
   "nbconvert_exporter": "python",
   "pygments_lexer": "ipython3",
   "version": "3.11.5"
  }
 },
 "nbformat": 4,
 "nbformat_minor": 4
}
