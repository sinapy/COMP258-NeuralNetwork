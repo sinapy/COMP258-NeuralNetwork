{
 "cells": [
  {
   "cell_type": "code",
   "execution_count": 6,
   "metadata": {},
   "outputs": [],
   "source": [
    "# Hebb learning rule\n",
    "# as descriv=bed in Fausett's book, Fundemantals of Neural Networks\n"
   ]
  },
  {
   "cell_type": "code",
   "execution_count": 7,
   "metadata": {},
   "outputs": [],
   "source": [
    "import numpy as np\n",
    "#\n",
    "class HebbModel:\n",
    "    def __init__(self, no_of_input_units):        \n",
    "        self.weights = np.zeros(no_of_input_units)\n",
    "        \n",
    "        \n",
    "        \n",
    "    def train(self, inputs, output):\n",
    "        # Update the weights according to Hebb rule: 𝑤_𝑖 (𝑛𝑒𝑤) = 𝑤_𝑖 (𝑜𝑙𝑑)+ 𝒙_𝒊 𝒚_𝒊 (i = 1 to n).\n",
    "        for i in range(len(self.weights)):\n",
    "            self.weights[i] += inputs[i] * output\n",
    "        \n",
    "        for item in self.weights:\n",
    "            print(item, end=\" \")\n",
    "\n",
    "        return self # return weights and bias\n"
   ]
  },
  {
   "cell_type": "code",
   "execution_count": 10,
   "metadata": {},
   "outputs": [
    {
     "name": "stdout",
     "output_type": "stream",
     "text": [
      "1.0 1.0 1.0 \n",
      "0.0 2.0 0.0 \n",
      "1.0 1.0 -1.0 \n",
      "2.0 2.0 -2.0 "
     ]
    },
    {
     "data": {
      "text/plain": [
       "<__main__.HebbModel at 0x28270202ad0>"
      ]
     },
     "execution_count": 10,
     "metadata": {},
     "output_type": "execute_result"
    }
   ],
   "source": [
    "#########################\n",
    "# Create the model\n",
    "p = HebbModel(3);\n",
    "# Train the model with input with AND results.\n",
    "#for i in range(0,100):\n",
    "p.train(np.array([1, 1, 1]), 1)\n",
    "print()\n",
    "p.train(np.array([1, -1, 1]), -1)\n",
    "print()\n",
    "p.train(np.array([-1, 1, 1]), -1)\n",
    "print()\n",
    "p.train(np.array([-1, -1, 1]), -1)\n",
    "#\n",
    "\n",
    "\n"
   ]
  },
  {
   "cell_type": "code",
   "execution_count": null,
   "metadata": {},
   "outputs": [],
   "source": []
  }
 ],
 "metadata": {
  "kernelspec": {
   "display_name": "Python 3 (ipykernel)",
   "language": "python",
   "name": "python3"
  },
  "language_info": {
   "codemirror_mode": {
    "name": "ipython",
    "version": 3
   },
   "file_extension": ".py",
   "mimetype": "text/x-python",
   "name": "python",
   "nbconvert_exporter": "python",
   "pygments_lexer": "ipython3",
   "version": "3.10.0"
  }
 },
 "nbformat": 4,
 "nbformat_minor": 4
}
