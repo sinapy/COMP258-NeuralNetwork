{
 "cells": [
  {
   "cell_type": "code",
   "execution_count": 1,
   "id": "initial_id",
   "metadata": {
    "collapsed": true,
    "ExecuteTime": {
     "end_time": "2024-02-24T22:33:01.261994200Z",
     "start_time": "2024-02-24T22:32:59.748471Z"
    }
   },
   "outputs": [],
   "source": [
    "from pathlib import Path"
   ]
  },
  {
   "cell_type": "code",
   "execution_count": 2,
   "outputs": [],
   "source": [
    "fruit_directory = Path('Fruit-Images-Dataset')"
   ],
   "metadata": {
    "collapsed": false,
    "ExecuteTime": {
     "end_time": "2024-02-24T22:33:01.262991400Z",
     "start_time": "2024-02-24T22:32:59.768577700Z"
    }
   },
   "id": "cc6d97f42040c616"
  },
  {
   "cell_type": "code",
   "execution_count": 3,
   "outputs": [
    {
     "data": {
      "text/plain": "[WindowsPath('Fruit-Images-Dataset/Apple Red'),\n WindowsPath('Fruit-Images-Dataset/Banana'),\n WindowsPath('Fruit-Images-Dataset/Beetroot'),\n WindowsPath('Fruit-Images-Dataset/Cactus fruit')]"
     },
     "execution_count": 3,
     "metadata": {},
     "output_type": "execute_result"
    }
   ],
   "source": [
    "folders = [folder for folder in fruit_directory.iterdir() if folder.is_dir()]\n",
    "folders"
   ],
   "metadata": {
    "collapsed": false,
    "ExecuteTime": {
     "end_time": "2024-02-24T22:33:01.262991400Z",
     "start_time": "2024-02-24T22:32:59.782541100Z"
    }
   },
   "id": "fd55b7a559cf0302"
  },
  {
   "cell_type": "code",
   "execution_count": 4,
   "outputs": [
    {
     "name": "stderr",
     "output_type": "stream",
     "text": [
      "C:\\Users\\301212298\\AppData\\Local\\Temp\\ipykernel_2428\\2839296305.py:2: DeprecationWarning: \n",
      "Pyarrow will become a required dependency of pandas in the next major release of pandas (pandas 3.0),\n",
      "(to allow more performant data types, such as the Arrow string type, and better interoperability with other libraries)\n",
      "but was not found to be installed on your system.\n",
      "If this would cause problems for you,\n",
      "please provide us feedback at https://github.com/pandas-dev/pandas/issues/54466\n",
      "        \n",
      "  import pandas as pd\n"
     ]
    }
   ],
   "source": [
    "# create a dataset that contains the image path and the label is the folder name\n",
    "import pandas as pd\n"
   ],
   "metadata": {
    "collapsed": false,
    "ExecuteTime": {
     "end_time": "2024-02-24T22:33:01.287926200Z",
     "start_time": "2024-02-24T22:32:59.798497900Z"
    }
   },
   "id": "29a156ca56996eb2"
  },
  {
   "cell_type": "code",
   "execution_count": 5,
   "outputs": [],
   "source": [
    "image_paths = []\n",
    "labels = []\n",
    "for folder in folders:\n",
    "    for image in folder.iterdir():\n",
    "        image_paths.append(str(image))\n",
    "        labels.append(folder.name)"
   ],
   "metadata": {
    "collapsed": false,
    "ExecuteTime": {
     "end_time": "2024-02-24T22:33:01.287926200Z",
     "start_time": "2024-02-24T22:33:00.461838Z"
    }
   },
   "id": "6ce53618cf3a924c"
  },
  {
   "cell_type": "code",
   "execution_count": 6,
   "outputs": [],
   "source": [
    "# Python ≥3.5 is required\n",
    "import sys\n",
    "assert sys.version_info >= (3, 5)\n",
    "\n",
    "# Scikit-Learn ≥0.20 is required\n",
    "import sklearn\n",
    "assert sklearn.__version__ >= \"0.20\"\n",
    "\n",
    "try:\n",
    "    # %tensorflow_version only exists in Colab.\n",
    "    %tensorflow_version 2.x\n",
    "except Exception:\n",
    "    pass\n",
    "\n",
    "# TensorFlow ≥2.0 is required\n",
    "import tensorflow as tf\n",
    "from tensorflow import keras\n",
    "assert tf.__version__ >= \"2.0\"\n",
    "\n",
    "%load_ext tensorboard\n",
    "\n",
    "# Common imports\n",
    "import numpy as np\n",
    "import os\n",
    "\n",
    "# to make this notebook's output stable across runs\n",
    "np.random.seed(42)"
   ],
   "metadata": {
    "collapsed": false,
    "ExecuteTime": {
     "end_time": "2024-02-24T22:33:17.913004400Z",
     "start_time": "2024-02-24T22:33:00.548753900Z"
    }
   },
   "id": "453c0fe5d21c606b"
  },
  {
   "cell_type": "code",
   "execution_count": 7,
   "outputs": [],
   "source": [
    "import PIL\n",
    "sample_image = image_paths[0]\n",
    "sample_image_pil = PIL.Image.open(sample_image)\n",
    "# get image size"
   ],
   "metadata": {
    "collapsed": false,
    "ExecuteTime": {
     "end_time": "2024-02-24T22:33:17.954892200Z",
     "start_time": "2024-02-24T22:33:17.914999900Z"
    }
   },
   "id": "62c1044c7282b04f"
  },
  {
   "cell_type": "code",
   "execution_count": 8,
   "outputs": [
    {
     "data": {
      "text/plain": "{(100, 100)}"
     },
     "execution_count": 8,
     "metadata": {},
     "output_type": "execute_result"
    }
   ],
   "source": [
    "input_shape_sizes = set()\n",
    "for image in image_paths:\n",
    "    image_pil = PIL.Image.open(image)\n",
    "    input_shape_sizes.add(image_pil.size)\n",
    "\n",
    "input_shape_sizes"
   ],
   "metadata": {
    "collapsed": false,
    "ExecuteTime": {
     "end_time": "2024-02-24T22:33:18.048353100Z",
     "start_time": "2024-02-24T22:33:17.945917200Z"
    }
   },
   "id": "81a6d1fffd4b17c"
  },
  {
   "cell_type": "code",
   "execution_count": 9,
   "outputs": [],
   "source": [
    "# replace the image path with the image pil\n",
    "image_pils = [PIL.Image.open(image) for image in image_paths]"
   ],
   "metadata": {
    "collapsed": false,
    "ExecuteTime": {
     "end_time": "2024-02-24T22:33:18.114394500Z",
     "start_time": "2024-02-24T22:33:18.022388300Z"
    }
   },
   "id": "d528750d3f968c4"
  },
  {
   "cell_type": "code",
   "execution_count": 10,
   "outputs": [
    {
     "data": {
      "text/plain": "200"
     },
     "execution_count": 10,
     "metadata": {},
     "output_type": "execute_result"
    }
   ],
   "source": [
    "len(image_pils)"
   ],
   "metadata": {
    "collapsed": false,
    "ExecuteTime": {
     "end_time": "2024-02-24T22:33:18.125341900Z",
     "start_time": "2024-02-24T22:33:18.086217800Z"
    }
   },
   "id": "3a3b492385350cba"
  },
  {
   "cell_type": "code",
   "execution_count": 11,
   "outputs": [],
   "source": [
    "# convert X and y to numpy array\n",
    "image_pils = np.array(image_pils)\n",
    "labels = np.array(labels)"
   ],
   "metadata": {
    "collapsed": false,
    "ExecuteTime": {
     "end_time": "2024-02-24T22:33:18.209140500Z",
     "start_time": "2024-02-24T22:33:18.101403300Z"
    }
   },
   "id": "3876ad295726c00b"
  },
  {
   "cell_type": "code",
   "execution_count": 12,
   "outputs": [],
   "source": [
    "# convert the labels to integer\n",
    "from sklearn.preprocessing import LabelEncoder\n",
    "label_encoder = LabelEncoder()\n",
    "labels = label_encoder.fit_transform(labels)"
   ],
   "metadata": {
    "collapsed": false,
    "ExecuteTime": {
     "end_time": "2024-02-24T22:33:18.220111600Z",
     "start_time": "2024-02-24T22:33:18.149275800Z"
    }
   },
   "id": "7c092111c6050e87"
  },
  {
   "cell_type": "code",
   "execution_count": 13,
   "outputs": [],
   "source": [
    "# split the dataset into training and testing\n",
    "from sklearn.model_selection import train_test_split\n",
    "X_train, X_test, y_train, y_test = train_test_split(image_pils, labels, test_size=0.2, random_state=42)\n",
    "X_train = X_train / 255.0\n",
    "X_test = X_test / 255.0\n",
    "X_valid, X_train = X_train[:50], X_train[50:]\n",
    "y_valid, y_train = y_train[:50], y_train[50:]"
   ],
   "metadata": {
    "collapsed": false,
    "ExecuteTime": {
     "end_time": "2024-02-24T22:33:18.292893Z",
     "start_time": "2024-02-24T22:33:18.182191400Z"
    }
   },
   "id": "22a3ca3e9663fa6b"
  },
  {
   "cell_type": "code",
   "execution_count": 14,
   "outputs": [],
   "source": [
    "model = keras.models.Sequential([\n",
    "    keras.layers.Flatten(input_shape=[100, 100, 3]),\n",
    "    keras.layers.Dense(784, activation='relu'),\n",
    "    keras.layers.Dense(128, activation='relu'),\n",
    "    keras.layers.Dense(4, activation='softmax')\n",
    "])"
   ],
   "metadata": {
    "collapsed": false,
    "ExecuteTime": {
     "end_time": "2024-02-24T22:33:19.087313700Z",
     "start_time": "2024-02-24T22:33:18.275938Z"
    }
   },
   "id": "e7ffbd3f01b9768f"
  },
  {
   "cell_type": "code",
   "execution_count": 15,
   "outputs": [],
   "source": [
    "model.compile(loss='sparse_categorical_crossentropy',\n",
    "              optimizer=keras.optimizers.SGD(learning_rate=1e-3),\n",
    "              metrics=['accuracy'])"
   ],
   "metadata": {
    "collapsed": false,
    "ExecuteTime": {
     "end_time": "2024-02-24T22:33:19.117234200Z",
     "start_time": "2024-02-24T22:33:19.088311700Z"
    }
   },
   "id": "7a0db1e4208baf73"
  },
  {
   "cell_type": "code",
   "execution_count": 16,
   "outputs": [
    {
     "name": "stdout",
     "output_type": "stream",
     "text": [
      "Epoch 1/50\n",
      "4/4 [==============================] - 1s 70ms/step - loss: 1.2548 - accuracy: 0.4000 - val_loss: 0.8652 - val_accuracy: 0.6800\n",
      "Epoch 2/50\n",
      "4/4 [==============================] - 0s 17ms/step - loss: 0.8717 - accuracy: 0.6909 - val_loss: 0.5731 - val_accuracy: 0.7800\n",
      "Epoch 3/50\n",
      "4/4 [==============================] - 0s 17ms/step - loss: 0.5911 - accuracy: 0.8636 - val_loss: 0.4938 - val_accuracy: 0.8000\n",
      "Epoch 4/50\n",
      "4/4 [==============================] - 0s 19ms/step - loss: 0.4097 - accuracy: 0.9182 - val_loss: 0.2663 - val_accuracy: 1.0000\n",
      "Epoch 5/50\n",
      "4/4 [==============================] - 0s 17ms/step - loss: 0.3392 - accuracy: 0.9636 - val_loss: 0.7090 - val_accuracy: 0.7200\n",
      "Epoch 6/50\n",
      "4/4 [==============================] - 0s 18ms/step - loss: 0.6853 - accuracy: 0.7000 - val_loss: 0.2055 - val_accuracy: 1.0000\n",
      "Epoch 7/50\n",
      "4/4 [==============================] - 0s 17ms/step - loss: 0.2524 - accuracy: 0.9636 - val_loss: 0.2639 - val_accuracy: 0.9600\n",
      "Epoch 8/50\n",
      "4/4 [==============================] - 0s 17ms/step - loss: 0.2359 - accuracy: 0.9545 - val_loss: 0.1640 - val_accuracy: 1.0000\n",
      "Epoch 9/50\n",
      "4/4 [==============================] - 0s 16ms/step - loss: 0.2237 - accuracy: 0.9636 - val_loss: 0.1338 - val_accuracy: 1.0000\n",
      "Epoch 10/50\n",
      "4/4 [==============================] - 0s 18ms/step - loss: 0.1681 - accuracy: 0.9727 - val_loss: 0.1181 - val_accuracy: 1.0000\n",
      "Epoch 11/50\n",
      "4/4 [==============================] - 0s 19ms/step - loss: 0.1508 - accuracy: 0.9909 - val_loss: 0.1124 - val_accuracy: 1.0000\n",
      "Epoch 12/50\n",
      "4/4 [==============================] - 0s 18ms/step - loss: 0.1539 - accuracy: 0.9455 - val_loss: 0.1147 - val_accuracy: 1.0000\n",
      "Epoch 13/50\n",
      "4/4 [==============================] - 0s 18ms/step - loss: 0.1512 - accuracy: 0.9727 - val_loss: 0.1099 - val_accuracy: 1.0000\n",
      "Epoch 14/50\n",
      "4/4 [==============================] - 0s 18ms/step - loss: 0.1552 - accuracy: 0.9636 - val_loss: 0.0926 - val_accuracy: 1.0000\n",
      "Epoch 15/50\n",
      "4/4 [==============================] - 0s 18ms/step - loss: 0.1183 - accuracy: 1.0000 - val_loss: 0.0863 - val_accuracy: 1.0000\n",
      "Epoch 16/50\n",
      "4/4 [==============================] - 0s 21ms/step - loss: 0.1124 - accuracy: 1.0000 - val_loss: 0.0915 - val_accuracy: 1.0000\n",
      "Epoch 17/50\n",
      "4/4 [==============================] - 0s 18ms/step - loss: 0.1087 - accuracy: 1.0000 - val_loss: 0.0843 - val_accuracy: 1.0000\n",
      "Epoch 18/50\n",
      "4/4 [==============================] - 0s 19ms/step - loss: 0.1143 - accuracy: 0.9727 - val_loss: 0.0920 - val_accuracy: 1.0000\n",
      "Epoch 19/50\n",
      "4/4 [==============================] - 0s 19ms/step - loss: 0.0932 - accuracy: 1.0000 - val_loss: 0.0682 - val_accuracy: 1.0000\n",
      "Epoch 20/50\n",
      "4/4 [==============================] - 0s 19ms/step - loss: 0.0906 - accuracy: 1.0000 - val_loss: 0.0718 - val_accuracy: 1.0000\n",
      "Epoch 21/50\n",
      "4/4 [==============================] - 0s 18ms/step - loss: 0.0862 - accuracy: 1.0000 - val_loss: 0.0627 - val_accuracy: 1.0000\n",
      "Epoch 22/50\n",
      "4/4 [==============================] - 0s 17ms/step - loss: 0.0814 - accuracy: 1.0000 - val_loss: 0.0640 - val_accuracy: 1.0000\n",
      "Epoch 23/50\n",
      "4/4 [==============================] - 0s 17ms/step - loss: 0.0795 - accuracy: 1.0000 - val_loss: 0.0577 - val_accuracy: 1.0000\n",
      "Epoch 24/50\n",
      "4/4 [==============================] - 0s 18ms/step - loss: 0.0784 - accuracy: 1.0000 - val_loss: 0.0565 - val_accuracy: 1.0000\n",
      "Epoch 25/50\n",
      "4/4 [==============================] - 0s 18ms/step - loss: 0.0770 - accuracy: 1.0000 - val_loss: 0.0566 - val_accuracy: 1.0000\n",
      "Epoch 26/50\n",
      "4/4 [==============================] - 0s 18ms/step - loss: 0.0697 - accuracy: 1.0000 - val_loss: 0.0717 - val_accuracy: 1.0000\n",
      "Epoch 27/50\n",
      "4/4 [==============================] - 0s 18ms/step - loss: 0.0674 - accuracy: 1.0000 - val_loss: 0.0533 - val_accuracy: 1.0000\n",
      "Epoch 28/50\n",
      "4/4 [==============================] - 0s 19ms/step - loss: 0.0689 - accuracy: 1.0000 - val_loss: 0.0539 - val_accuracy: 1.0000\n",
      "Epoch 29/50\n",
      "4/4 [==============================] - 0s 20ms/step - loss: 0.0605 - accuracy: 1.0000 - val_loss: 0.0499 - val_accuracy: 1.0000\n",
      "Epoch 30/50\n",
      "4/4 [==============================] - 0s 19ms/step - loss: 0.0585 - accuracy: 1.0000 - val_loss: 0.0493 - val_accuracy: 1.0000\n",
      "Epoch 31/50\n",
      "4/4 [==============================] - 0s 18ms/step - loss: 0.0559 - accuracy: 1.0000 - val_loss: 0.0448 - val_accuracy: 1.0000\n",
      "Epoch 32/50\n",
      "4/4 [==============================] - 0s 18ms/step - loss: 0.0543 - accuracy: 1.0000 - val_loss: 0.0485 - val_accuracy: 1.0000\n",
      "Epoch 33/50\n",
      "4/4 [==============================] - 0s 18ms/step - loss: 0.0546 - accuracy: 1.0000 - val_loss: 0.0412 - val_accuracy: 1.0000\n",
      "Epoch 34/50\n",
      "4/4 [==============================] - 0s 19ms/step - loss: 0.0515 - accuracy: 1.0000 - val_loss: 0.0416 - val_accuracy: 1.0000\n",
      "Epoch 35/50\n",
      "4/4 [==============================] - 0s 19ms/step - loss: 0.0552 - accuracy: 1.0000 - val_loss: 0.0382 - val_accuracy: 1.0000\n",
      "Epoch 36/50\n",
      "4/4 [==============================] - 0s 19ms/step - loss: 0.0536 - accuracy: 1.0000 - val_loss: 0.0402 - val_accuracy: 1.0000\n",
      "Epoch 37/50\n",
      "4/4 [==============================] - 0s 18ms/step - loss: 0.0474 - accuracy: 1.0000 - val_loss: 0.0381 - val_accuracy: 1.0000\n",
      "Epoch 38/50\n",
      "4/4 [==============================] - 0s 19ms/step - loss: 0.0465 - accuracy: 1.0000 - val_loss: 0.0596 - val_accuracy: 1.0000\n",
      "Epoch 39/50\n",
      "4/4 [==============================] - 0s 18ms/step - loss: 0.0553 - accuracy: 1.0000 - val_loss: 0.0347 - val_accuracy: 1.0000\n",
      "Epoch 40/50\n",
      "4/4 [==============================] - 0s 18ms/step - loss: 0.0430 - accuracy: 1.0000 - val_loss: 0.0348 - val_accuracy: 1.0000\n",
      "Epoch 41/50\n",
      "4/4 [==============================] - 0s 18ms/step - loss: 0.0444 - accuracy: 1.0000 - val_loss: 0.0437 - val_accuracy: 1.0000\n",
      "Epoch 42/50\n",
      "4/4 [==============================] - 0s 18ms/step - loss: 0.0522 - accuracy: 0.9909 - val_loss: 0.0317 - val_accuracy: 1.0000\n",
      "Epoch 43/50\n",
      "4/4 [==============================] - 0s 18ms/step - loss: 0.0447 - accuracy: 1.0000 - val_loss: 0.0335 - val_accuracy: 1.0000\n",
      "Epoch 44/50\n",
      "4/4 [==============================] - 0s 18ms/step - loss: 0.0403 - accuracy: 1.0000 - val_loss: 0.0304 - val_accuracy: 1.0000\n",
      "Epoch 45/50\n",
      "4/4 [==============================] - 0s 17ms/step - loss: 0.0397 - accuracy: 1.0000 - val_loss: 0.0302 - val_accuracy: 1.0000\n",
      "Epoch 46/50\n",
      "4/4 [==============================] - 0s 18ms/step - loss: 0.0399 - accuracy: 1.0000 - val_loss: 0.0287 - val_accuracy: 1.0000\n",
      "Epoch 47/50\n",
      "4/4 [==============================] - 0s 18ms/step - loss: 0.0371 - accuracy: 1.0000 - val_loss: 0.0280 - val_accuracy: 1.0000\n",
      "Epoch 48/50\n",
      "4/4 [==============================] - 0s 17ms/step - loss: 0.0362 - accuracy: 1.0000 - val_loss: 0.0279 - val_accuracy: 1.0000\n",
      "Epoch 49/50\n",
      "4/4 [==============================] - 0s 18ms/step - loss: 0.0356 - accuracy: 1.0000 - val_loss: 0.0267 - val_accuracy: 1.0000\n",
      "Epoch 50/50\n",
      "4/4 [==============================] - 0s 18ms/step - loss: 0.0353 - accuracy: 1.0000 - val_loss: 0.0265 - val_accuracy: 1.0000\n"
     ]
    }
   ],
   "source": [
    "history = model.fit(X_train, y_train, epochs=50, validation_data=(X_valid, y_valid))"
   ],
   "metadata": {
    "collapsed": false,
    "ExecuteTime": {
     "end_time": "2024-02-24T22:33:23.766312300Z",
     "start_time": "2024-02-24T22:33:19.103271100Z"
    }
   },
   "id": "cb2f12a2cf7a2581"
  },
  {
   "cell_type": "code",
   "execution_count": 17,
   "outputs": [
    {
     "data": {
      "text/plain": "<Figure size 800x500 with 1 Axes>",
      "image/png": "[encoded data removed]"
     },
     "metadata": {},
     "output_type": "display_data"
    }
   ],
   "source": [
    "import matplotlib.pyplot as plt\n",
    "pd.DataFrame(history.history).plot(figsize=(8, 5))\n",
    "plt.grid(True)\n",
    "plt.gca().set_ylim(0, 1)\n",
    "plt.show()\n"
   ],
   "metadata": {
    "collapsed": false,
    "ExecuteTime": {
     "end_time": "2024-02-24T22:33:24.199904100Z",
     "start_time": "2024-02-24T22:33:23.503982600Z"
    }
   },
   "id": "e1f7da76fe7b4ac7"
  },
  {
   "cell_type": "code",
   "execution_count": 18,
   "outputs": [
    {
     "name": "stdout",
     "output_type": "stream",
     "text": [
      "2/2 [==============================] - 0s 5ms/step - loss: 0.0980 - accuracy: 0.9750\n"
     ]
    },
    {
     "data": {
      "text/plain": "[0.09802691638469696, 0.9750000238418579]"
     },
     "execution_count": 18,
     "metadata": {},
     "output_type": "execute_result"
    }
   ],
   "source": [
    "model.evaluate(X_test, y_test)"
   ],
   "metadata": {
    "collapsed": false,
    "ExecuteTime": {
     "end_time": "2024-02-24T22:33:24.293620300Z",
     "start_time": "2024-02-24T22:33:24.200880700Z"
    }
   },
   "id": "2a1875494f876dac"
  },
  {
   "cell_type": "code",
   "execution_count": 19,
   "outputs": [
    {
     "data": {
      "text/plain": "array([[[255, 255, 255],\n        [255, 255, 255],\n        [255, 255, 255],\n        ...,\n        [255, 255, 255],\n        [255, 255, 255],\n        [255, 255, 255]],\n\n       [[255, 255, 255],\n        [255, 255, 255],\n        [255, 255, 255],\n        ...,\n        [255, 255, 255],\n        [255, 255, 255],\n        [255, 255, 255]],\n\n       [[255, 255, 255],\n        [255, 255, 255],\n        [255, 255, 255],\n        ...,\n        [255, 255, 255],\n        [255, 255, 255],\n        [255, 255, 255]],\n\n       ...,\n\n       [[255, 255, 255],\n        [255, 255, 255],\n        [255, 255, 255],\n        ...,\n        [255, 255, 255],\n        [255, 255, 255],\n        [255, 255, 255]],\n\n       [[255, 255, 255],\n        [255, 255, 255],\n        [255, 255, 255],\n        ...,\n        [255, 255, 255],\n        [255, 255, 255],\n        [255, 255, 255]],\n\n       [[255, 255, 255],\n        [255, 255, 255],\n        [255, 255, 255],\n        ...,\n        [255, 255, 255],\n        [255, 255, 255],\n        [255, 255, 255]]], dtype=uint8)"
     },
     "execution_count": 19,
     "metadata": {},
     "output_type": "execute_result"
    }
   ],
   "source": [
    "# get a sample image\n",
    "input_image = image_pils[103]\n",
    "input_image"
   ],
   "metadata": {
    "collapsed": false,
    "ExecuteTime": {
     "end_time": "2024-02-24T22:33:24.430254Z",
     "start_time": "2024-02-24T22:33:24.289629600Z"
    }
   },
   "id": "1a227b7b3d62fae5"
  },
  {
   "cell_type": "code",
   "execution_count": 20,
   "outputs": [
    {
     "data": {
      "text/plain": "<PIL.Image.Image image mode=RGB size=100x100>",
      "image/png": "[encoded data removed]",
      "image/jpeg": "[encoded data removed]"
     },
     "execution_count": 20,
     "metadata": {},
     "output_type": "execute_result"
    }
   ],
   "source": [
    "#convert numpy array to image\n",
    "input_image_file = PIL.Image.fromarray(input_image)\n",
    "input_image_file"
   ],
   "metadata": {
    "collapsed": false,
    "ExecuteTime": {
     "end_time": "2024-02-24T22:33:24.507278800Z",
     "start_time": "2024-02-24T22:33:24.304591500Z"
    }
   },
   "id": "d0aa373db9625334"
  },
  {
   "cell_type": "code",
   "execution_count": 21,
   "outputs": [
    {
     "name": "stdout",
     "output_type": "stream",
     "text": [
      "1/1 [==============================] - 0s 82ms/step\n"
     ]
    },
    {
     "data": {
      "text/plain": "array([[0.00098924, 0.01210112, 0.9831275 , 0.0037821 ]], dtype=float32)"
     },
     "execution_count": 21,
     "metadata": {},
     "output_type": "execute_result"
    }
   ],
   "source": [
    "# test the input image\n",
    "# 0 is apple, 1 is banana, 2 is Beetroot, 3 is Cactus fruit\n",
    "input_image_standardized = input_image / 255.0\n",
    "input_image_standardized = input_image_standardized.reshape(1, 100, 100, 3)\n",
    "model.predict(input_image_standardized)"
   ],
   "metadata": {
    "collapsed": false,
    "ExecuteTime": {
     "end_time": "2024-02-24T22:33:24.580467600Z",
     "start_time": "2024-02-24T22:33:24.321546400Z"
    }
   },
   "id": "98f9680705e776dc"
  },
  {
   "cell_type": "code",
   "execution_count": 21,
   "outputs": [],
   "source": [],
   "metadata": {
    "collapsed": false,
    "ExecuteTime": {
     "end_time": "2024-02-24T22:33:24.580467600Z",
     "start_time": "2024-02-24T22:33:24.447209200Z"
    }
   },
   "id": "bbfcbe617d404408"
  }
 ],
 "metadata": {
  "kernelspec": {
   "display_name": "Python 3",
   "language": "python",
   "name": "python3"
  },
  "language_info": {
   "codemirror_mode": {
    "name": "ipython",
    "version": 2
   },
   "file_extension": ".py",
   "mimetype": "text/x-python",
   "name": "python",
   "nbconvert_exporter": "python",
   "pygments_lexer": "ipython2",
   "version": "2.7.6"
  }
 },
 "nbformat": 4,
 "nbformat_minor": 5
}
