{
 "cells": [
  {
   "cell_type": "code",
   "execution_count": 21,
   "id": "initial_id",
   "metadata": {
    "collapsed": true,
    "ExecuteTime": {
     "end_time": "2024-02-24T21:09:10.168730700Z",
     "start_time": "2024-02-24T21:09:10.097919500Z"
    }
   },
   "outputs": [
    {
     "data": {
      "text/plain": "  class  cap-diameter does-bruise-or-bleed  stem-height  stem-width stem-root  \\\n0     p         15.26                    f        16.95       17.09         s   \n1     p         16.60                    f        17.99       18.19         s   \n2     p         14.07                    f        17.80       17.74         s   \n3     p         14.17                    f        15.77       15.98         s   \n4     p         14.64                    f        16.53       17.20         s   \n\n  veil-type has-ring season  \n0         u        t      w  \n1         u        t      u  \n2         u        t      w  \n3         u        t      w  \n4         u        t      w  ",
      "text/html": "<div>\n<style scoped>\n    .dataframe tbody tr th:only-of-type {\n        vertical-align: middle;\n    }\n\n    .dataframe tbody tr th {\n        vertical-align: top;\n    }\n\n    .dataframe thead th {\n        text-align: right;\n    }\n</style>\n<table border=\"1\" class=\"dataframe\">\n  <thead>\n    <tr style=\"text-align: right;\">\n      <th></th>\n      <th>class</th>\n      <th>cap-diameter</th>\n      <th>does-bruise-or-bleed</th>\n      <th>stem-height</th>\n      <th>stem-width</th>\n      <th>stem-root</th>\n      <th>veil-type</th>\n      <th>has-ring</th>\n      <th>season</th>\n    </tr>\n  </thead>\n  <tbody>\n    <tr>\n      <th>0</th>\n      <td>p</td>\n      <td>15.26</td>\n      <td>f</td>\n      <td>16.95</td>\n      <td>17.09</td>\n      <td>s</td>\n      <td>u</td>\n      <td>t</td>\n      <td>w</td>\n    </tr>\n    <tr>\n      <th>1</th>\n      <td>p</td>\n      <td>16.60</td>\n      <td>f</td>\n      <td>17.99</td>\n      <td>18.19</td>\n      <td>s</td>\n      <td>u</td>\n      <td>t</td>\n      <td>u</td>\n    </tr>\n    <tr>\n      <th>2</th>\n      <td>p</td>\n      <td>14.07</td>\n      <td>f</td>\n      <td>17.80</td>\n      <td>17.74</td>\n      <td>s</td>\n      <td>u</td>\n      <td>t</td>\n      <td>w</td>\n    </tr>\n    <tr>\n      <th>3</th>\n      <td>p</td>\n      <td>14.17</td>\n      <td>f</td>\n      <td>15.77</td>\n      <td>15.98</td>\n      <td>s</td>\n      <td>u</td>\n      <td>t</td>\n      <td>w</td>\n    </tr>\n    <tr>\n      <th>4</th>\n      <td>p</td>\n      <td>14.64</td>\n      <td>f</td>\n      <td>16.53</td>\n      <td>17.20</td>\n      <td>s</td>\n      <td>u</td>\n      <td>t</td>\n      <td>w</td>\n    </tr>\n  </tbody>\n</table>\n</div>"
     },
     "execution_count": 21,
     "metadata": {},
     "output_type": "execute_result"
    }
   ],
   "source": [
    "# load mushroom data\n",
    "import pandas as pd\n",
    "mushroom = pd.read_csv('mushroom_data.csv')\n",
    "mushroom.head()"
   ]
  },
  {
   "cell_type": "code",
   "execution_count": 22,
   "outputs": [],
   "source": [
    "# extract input X and output y\n",
    "# X has all columns except 'class'\n",
    "X = mushroom.drop('class', axis=1)\n",
    "# y is 'class'\n",
    "y = mushroom['class']"
   ],
   "metadata": {
    "collapsed": false,
    "ExecuteTime": {
     "end_time": "2024-02-24T21:09:11.105327Z",
     "start_time": "2024-02-24T21:09:11.083385800Z"
    }
   },
   "id": "1e29389749267c97"
  },
  {
   "cell_type": "code",
   "execution_count": 23,
   "outputs": [],
   "source": [
    "# convert categorical data to numerical data\n",
    "from sklearn.preprocessing import LabelEncoder\n",
    "labelencoder = LabelEncoder()\n",
    "for col in X.columns:\n",
    "    X[col] = labelencoder.fit_transform(X[col])\n",
    "y = labelencoder.fit_transform(y)\n"
   ],
   "metadata": {
    "collapsed": false,
    "ExecuteTime": {
     "end_time": "2024-02-24T21:09:11.943512400Z",
     "start_time": "2024-02-24T21:09:11.835185Z"
    }
   },
   "id": "ddbb56e8d9357af2"
  },
  {
   "cell_type": "code",
   "execution_count": 24,
   "outputs": [],
   "source": [
    "# split data into training and testing sets\n",
    "from sklearn.model_selection import train_test_split\n",
    "X_train, X_test, y_train, y_test = train_test_split(X, y, test_size=0.3, random_state=1)"
   ],
   "metadata": {
    "collapsed": false,
    "ExecuteTime": {
     "end_time": "2024-02-24T21:09:13.013055100Z",
     "start_time": "2024-02-24T21:09:12.987090200Z"
    }
   },
   "id": "ed4ba0b09c707fb6"
  },
  {
   "cell_type": "code",
   "execution_count": 30,
   "outputs": [],
   "source": [
    "npX_train = X_train.to_numpy()\n",
    "npy_train = y_train"
   ],
   "metadata": {
    "collapsed": false,
    "ExecuteTime": {
     "end_time": "2024-02-24T21:11:25.480102900Z",
     "start_time": "2024-02-24T21:11:25.438006300Z"
    }
   },
   "id": "8a35eee195aa1cd6"
  },
  {
   "cell_type": "code",
   "execution_count": 44,
   "outputs": [
    {
     "data": {
      "text/plain": "(42748,)"
     },
     "execution_count": 44,
     "metadata": {},
     "output_type": "execute_result"
    }
   ],
   "source": [
    "y_train.shape"
   ],
   "metadata": {
    "collapsed": false,
    "ExecuteTime": {
     "end_time": "2024-02-24T21:22:02.960467400Z",
     "start_time": "2024-02-24T21:22:02.868589900Z"
    }
   },
   "id": "528f2ea602bcfb9a"
  },
  {
   "cell_type": "code",
   "execution_count": 47,
   "outputs": [],
   "source": [
    "sigmoid = lambda x: 1/(1 + np.exp(-x));\n",
    "\n",
    "def backprop(W1, W2, X, D):\n",
    "    alpha = 0.9\n",
    "    N = X.shape[0]\n",
    "    for k in range(0, N):\n",
    "        x = X[k, :].reshape(1, -1)\n",
    "        d = D[k].reshape(1, -1)\n",
    "        \n",
    "        v1 = np.dot(W1, x.T)\n",
    "        y1 = sigmoid(v1)\n",
    "        v2 = np.dot(W2, y1)\n",
    "        y = sigmoid(v2)\n",
    "        \n",
    "        e = d - y\n",
    "        delta = y*(1-y)*e\n",
    "        \n",
    "        e1 = np.dot(W2.T, delta)\n",
    "        delta1 = y1*(1-y1)*e1\n",
    "        \n",
    "        dW1 = alpha*np.dot(delta1, x)\n",
    "        W1 = W1 + dW1\n",
    "        \n",
    "        dW2 = alpha*np.dot(delta, y1.T)\n",
    "        W2 = W2 + dW2\n",
    "        \n",
    "    return W1, W2\n",
    "        "
   ],
   "metadata": {
    "collapsed": false,
    "ExecuteTime": {
     "end_time": "2024-02-24T21:23:40.237527200Z",
     "start_time": "2024-02-24T21:23:40.197569200Z"
    }
   },
   "id": "aac8334b11f44a1c"
  },
  {
   "cell_type": "code",
   "execution_count": 51,
   "outputs": [
    {
     "name": "stderr",
     "output_type": "stream",
     "text": [
      "C:\\Users\\301212298\\AppData\\Local\\Temp\\ipykernel_10712\\1205529412.py:1: RuntimeWarning: overflow encountered in exp\n",
      "  sigmoid = lambda x: 1/(1 + np.exp(-x));\n"
     ]
    }
   ],
   "source": [
    "import numpy as np\n",
    "tempW1 = 2*np.random.rand(36, 8) - 1\n",
    "tempW2 = 2*np.random.rand(2, 36) - 1\n",
    "tempW1, tempW2 = backprop(tempW1, tempW2, npX_train, npy_train)"
   ],
   "metadata": {
    "collapsed": false,
    "ExecuteTime": {
     "end_time": "2024-02-24T21:24:50.299830600Z",
     "start_time": "2024-02-24T21:24:43.324885200Z"
    }
   },
   "id": "d638c10d85b95284"
  },
  {
   "cell_type": "code",
   "execution_count": 39,
   "outputs": [
    {
     "name": "stderr",
     "output_type": "stream",
     "text": [
      "C:\\Users\\301212298\\AppData\\Local\\Temp\\ipykernel_10712\\1205529412.py:1: RuntimeWarning: overflow encountered in exp\n",
      "  sigmoid = lambda x: 1/(1 + np.exp(-x));\n"
     ]
    },
    {
     "name": "stdout",
     "output_type": "stream",
     "text": [
      "Epoch:  0\n",
      "Epoch:  1\n",
      "Epoch:  2\n",
      "Epoch:  3\n",
      "Epoch:  4\n",
      "Epoch:  5\n",
      "Epoch:  6\n",
      "Epoch:  7\n",
      "Epoch:  8\n",
      "Epoch:  9\n",
      "Epoch:  10\n",
      "Epoch:  11\n",
      "Epoch:  12\n",
      "Epoch:  13\n",
      "Epoch:  14\n",
      "Epoch:  15\n",
      "Epoch:  16\n",
      "Epoch:  17\n",
      "Epoch:  18\n",
      "Epoch:  19\n",
      "Epoch:  20\n",
      "Epoch:  21\n",
      "Epoch:  22\n",
      "Epoch:  23\n",
      "Epoch:  24\n",
      "Epoch:  25\n",
      "Epoch:  26\n",
      "Epoch:  27\n",
      "Epoch:  28\n",
      "Epoch:  29\n",
      "Epoch:  30\n",
      "Epoch:  31\n",
      "Epoch:  32\n",
      "Epoch:  33\n",
      "Epoch:  34\n",
      "Epoch:  35\n",
      "Epoch:  36\n",
      "Epoch:  37\n",
      "Epoch:  38\n",
      "Epoch:  39\n",
      "Epoch:  40\n",
      "Epoch:  41\n",
      "Epoch:  42\n",
      "Epoch:  43\n",
      "Epoch:  44\n",
      "Epoch:  45\n",
      "Epoch:  46\n",
      "Epoch:  47\n",
      "Epoch:  48\n",
      "Epoch:  49\n",
      "Epoch:  50\n",
      "Epoch:  51\n",
      "Epoch:  52\n",
      "Epoch:  53\n",
      "Epoch:  54\n",
      "Epoch:  55\n",
      "Epoch:  56\n",
      "Epoch:  57\n",
      "Epoch:  58\n",
      "Epoch:  59\n",
      "Epoch:  60\n",
      "Epoch:  61\n",
      "Epoch:  62\n",
      "Epoch:  63\n",
      "Epoch:  64\n",
      "Epoch:  65\n",
      "Epoch:  66\n",
      "Epoch:  67\n",
      "Epoch:  68\n",
      "Epoch:  69\n",
      "Epoch:  70\n",
      "Epoch:  71\n",
      "Epoch:  72\n",
      "Epoch:  73\n",
      "Epoch:  74\n",
      "Epoch:  75\n",
      "Epoch:  76\n",
      "Epoch:  77\n",
      "Epoch:  78\n",
      "Epoch:  79\n",
      "Epoch:  80\n",
      "Epoch:  81\n",
      "Epoch:  82\n",
      "Epoch:  83\n",
      "Epoch:  84\n",
      "Epoch:  85\n",
      "Epoch:  86\n",
      "Epoch:  87\n",
      "Epoch:  88\n",
      "Epoch:  89\n",
      "Epoch:  90\n",
      "Epoch:  91\n",
      "Epoch:  92\n",
      "Epoch:  93\n",
      "Epoch:  94\n",
      "Epoch:  95\n",
      "Epoch:  96\n",
      "Epoch:  97\n",
      "Epoch:  98\n",
      "Epoch:  99\n"
     ]
    }
   ],
   "source": [
    "# initialize weights and call backpropagation function\n",
    "import numpy as np\n",
    "np.random.seed(1)\n",
    "W1 = 2*np.random.rand(36, 8) - 1\n",
    "W2 = 2*np.random.rand(2, 36) - 1\n",
    "\n",
    "for epoch in range(100):\n",
    "    W1, W2 = backprop(W1, W2, npX_train, npy_train)\n",
    "    print(\"Epoch: \", epoch)"
   ],
   "metadata": {
    "collapsed": false,
    "ExecuteTime": {
     "end_time": "2024-02-24T21:19:35.780345600Z",
     "start_time": "2024-02-24T21:16:31.599913Z"
    }
   },
   "id": "4bc4130eeee59ec5"
  },
  {
   "cell_type": "code",
   "execution_count": 53,
   "outputs": [
    {
     "name": "stderr",
     "output_type": "stream",
     "text": [
      "C:\\Users\\301212298\\AppData\\Local\\Temp\\ipykernel_10712\\1205529412.py:1: RuntimeWarning: overflow encountered in exp\n",
      "  sigmoid = lambda x: 1/(1 + np.exp(-x));\n"
     ]
    },
    {
     "data": {
      "text/plain": "0.5552072611584168"
     },
     "execution_count": 53,
     "metadata": {},
     "output_type": "execute_result"
    }
   ],
   "source": [
    "# find accuracy on training data\n",
    "def accuracy(W1, W2, X, D):\n",
    "    N = X.shape[0]\n",
    "    num_correct = 0\n",
    "    for k in range(0, N):\n",
    "        x = X[k, :].reshape(1, -1)\n",
    "        d = D[k]\n",
    "        \n",
    "        v1 = np.dot(W1, x.T)\n",
    "        y1 = sigmoid(v1)\n",
    "        v2 = np.dot(W2, y1)\n",
    "        y = sigmoid(v2)\n",
    "        \n",
    "        if (y >= 0.5).any():\n",
    "            c = 1\n",
    "        else:\n",
    "            c = 0\n",
    "        if c == d:\n",
    "            num_correct += 1\n",
    "    return num_correct/N\n",
    "\n",
    "accuracy(W1, W2, npX_train, npy_train)\n",
    "    "
   ],
   "metadata": {
    "collapsed": false,
    "ExecuteTime": {
     "end_time": "2024-02-24T21:33:49.456897100Z",
     "start_time": "2024-02-24T21:33:47.380308300Z"
    }
   },
   "id": "897788c0be752168"
  },
  {
   "cell_type": "code",
   "execution_count": 66,
   "outputs": [
    {
     "ename": "AttributeError",
     "evalue": "'DataFrame' object has no attribute 'dtype'",
     "output_type": "error",
     "traceback": [
      "\u001B[1;31m---------------------------------------------------------------------------\u001B[0m",
      "\u001B[1;31mAttributeError\u001B[0m                            Traceback (most recent call last)",
      "\u001B[1;32m~\\AppData\\Local\\Temp\\ipykernel_10712\\2782128166.py\u001B[0m in \u001B[0;36m?\u001B[1;34m()\u001B[0m\n\u001B[0;32m      1\u001B[0m \u001B[0mX_first\u001B[0m \u001B[1;33m=\u001B[0m \u001B[0mX_train\u001B[0m\u001B[1;33m.\u001B[0m\u001B[0miloc\u001B[0m\u001B[1;33m[\u001B[0m\u001B[1;36m0\u001B[0m\u001B[1;33m:\u001B[0m\u001B[1;36m1\u001B[0m\u001B[1;33m,\u001B[0m \u001B[1;33m:\u001B[0m\u001B[1;33m]\u001B[0m\u001B[1;33m\u001B[0m\u001B[1;33m\u001B[0m\u001B[0m\n\u001B[1;32m----> 2\u001B[1;33m \u001B[0mcategorical_cols\u001B[0m \u001B[1;33m=\u001B[0m \u001B[0mX_first\u001B[0m\u001B[1;33m.\u001B[0m\u001B[0mdtype\u001B[0m\u001B[1;33m[\u001B[0m\u001B[0mX_first\u001B[0m\u001B[1;33m.\u001B[0m\u001B[0mdtypes\u001B[0m \u001B[1;33m==\u001B[0m \u001B[1;34m\"object\"\u001B[0m\u001B[1;33m]\u001B[0m\u001B[1;33m.\u001B[0m\u001B[0mindex\u001B[0m\u001B[1;33m\u001B[0m\u001B[1;33m\u001B[0m\u001B[0m\n\u001B[0m",
      "\u001B[1;32m~\\AppData\\Local\\pypoetry\\Cache\\virtualenvs\\comp258-FNsmQjYB-py3.10\\lib\\site-packages\\pandas\\core\\generic.py\u001B[0m in \u001B[0;36m?\u001B[1;34m(self, name)\u001B[0m\n\u001B[0;32m   6289\u001B[0m             \u001B[1;32mand\u001B[0m \u001B[0mname\u001B[0m \u001B[1;32mnot\u001B[0m \u001B[1;32min\u001B[0m \u001B[0mself\u001B[0m\u001B[1;33m.\u001B[0m\u001B[0m_accessors\u001B[0m\u001B[1;33m\u001B[0m\u001B[1;33m\u001B[0m\u001B[0m\n\u001B[0;32m   6290\u001B[0m             \u001B[1;32mand\u001B[0m \u001B[0mself\u001B[0m\u001B[1;33m.\u001B[0m\u001B[0m_info_axis\u001B[0m\u001B[1;33m.\u001B[0m\u001B[0m_can_hold_identifiers_and_holds_name\u001B[0m\u001B[1;33m(\u001B[0m\u001B[0mname\u001B[0m\u001B[1;33m)\u001B[0m\u001B[1;33m\u001B[0m\u001B[1;33m\u001B[0m\u001B[0m\n\u001B[0;32m   6291\u001B[0m         ):\n\u001B[0;32m   6292\u001B[0m             \u001B[1;32mreturn\u001B[0m \u001B[0mself\u001B[0m\u001B[1;33m[\u001B[0m\u001B[0mname\u001B[0m\u001B[1;33m]\u001B[0m\u001B[1;33m\u001B[0m\u001B[1;33m\u001B[0m\u001B[0m\n\u001B[1;32m-> 6293\u001B[1;33m         \u001B[1;32mreturn\u001B[0m \u001B[0mobject\u001B[0m\u001B[1;33m.\u001B[0m\u001B[0m__getattribute__\u001B[0m\u001B[1;33m(\u001B[0m\u001B[0mself\u001B[0m\u001B[1;33m,\u001B[0m \u001B[0mname\u001B[0m\u001B[1;33m)\u001B[0m\u001B[1;33m\u001B[0m\u001B[1;33m\u001B[0m\u001B[0m\n\u001B[0m",
      "\u001B[1;31mAttributeError\u001B[0m: 'DataFrame' object has no attribute 'dtype'"
     ]
    }
   ],
   "source": [],
   "metadata": {
    "collapsed": false,
    "ExecuteTime": {
     "end_time": "2024-02-24T21:46:03.037321Z",
     "start_time": "2024-02-24T21:46:02.957414300Z"
    }
   },
   "id": "5f7343b41320a3b1"
  },
  {
   "cell_type": "code",
   "execution_count": 67,
   "outputs": [
    {
     "name": "stdout",
     "output_type": "stream",
     "text": [
      "test input:  [[ 381    0 1001  570    5    1    1    2]] actual output:  1 predicted output:  0.8778058793383476\n"
     ]
    },
    {
     "name": "stderr",
     "output_type": "stream",
     "text": [
      "C:\\Users\\301212298\\AppData\\Local\\Temp\\ipykernel_10712\\1205529412.py:1: RuntimeWarning: overflow encountered in exp\n",
      "  sigmoid = lambda x: 1/(1 + np.exp(-x));\n"
     ]
    }
   ],
   "source": [
    "# create a test input and test the neural network\n",
    "test_input = npX_train[0, :].reshape(1, -1)\n",
    "X_first = X_train.iloc[0:1, :]\n",
    "actual_output = npy_train[0]\n",
    "v1 = np.dot(W1, test_input.T)\n",
    "y1 = sigmoid(v1)\n",
    "v2 = np.dot(W2, y1)\n",
    "y = sigmoid(v2)\n",
    "print(\"test input: \", test_input, \"actual output: \", actual_output, \"predicted output: \", y[0,0])"
   ],
   "metadata": {
    "collapsed": false,
    "ExecuteTime": {
     "end_time": "2024-02-24T21:46:38.281985800Z",
     "start_time": "2024-02-24T21:46:38.206090700Z"
    }
   },
   "id": "7426375833922a69"
  },
  {
   "cell_type": "code",
   "execution_count": 68,
   "outputs": [
    {
     "name": "stdout",
     "output_type": "stream",
     "text": [
      "test input:  [[344   0 515 393   4   1   0   0]] actual output:  1 predicted output:  0.8778058793383476\n"
     ]
    },
    {
     "name": "stderr",
     "output_type": "stream",
     "text": [
      "C:\\Users\\301212298\\AppData\\Local\\Temp\\ipykernel_10712\\1205529412.py:1: RuntimeWarning: overflow encountered in exp\n",
      "  sigmoid = lambda x: 1/(1 + np.exp(-x));\n"
     ]
    }
   ],
   "source": [
    "test_input = npX_train[1, :].reshape(1, -1)\n",
    "actual_output = npy_train[1]\n",
    "v1 = np.dot(W1, test_input.T)\n",
    "y1 = sigmoid(v1)\n",
    "v2 = np.dot(W2, y1)\n",
    "y = sigmoid(v2)\n",
    "print(\"test input: \", test_input, \"actual output: \", actual_output, \"predicted output: \", y[0,0])"
   ],
   "metadata": {
    "collapsed": false,
    "ExecuteTime": {
     "end_time": "2024-02-24T21:47:54.669915700Z",
     "start_time": "2024-02-24T21:47:54.590030300Z"
    }
   },
   "id": "6d9703ce9fa5a80e"
  },
  {
   "cell_type": "code",
   "execution_count": null,
   "outputs": [],
   "source": [],
   "metadata": {
    "collapsed": false
   },
   "id": "b0a5d6f32edde67a"
  }
 ],
 "metadata": {
  "kernelspec": {
   "display_name": "Python 3",
   "language": "python",
   "name": "python3"
  },
  "language_info": {
   "codemirror_mode": {
    "name": "ipython",
    "version": 2
   },
   "file_extension": ".py",
   "mimetype": "text/x-python",
   "name": "python",
   "nbconvert_exporter": "python",
   "pygments_lexer": "ipython2",
   "version": "2.7.6"
  }
 },
 "nbformat": 4,
 "nbformat_minor": 5
}
